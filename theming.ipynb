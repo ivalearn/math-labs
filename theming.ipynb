{
 "cells": [
  {
   "cell_type": "markdown",
   "metadata": {},
   "source": [
    "# Theming Jupyter\n",
    "\n",
    "https://github.com/dunovank/jupyter-themes"
   ]
  },
  {
   "cell_type": "code",
   "execution_count": 4,
   "metadata": {},
   "outputs": [],
   "source": [
    "!pip install -q -U jupyterthemes"
   ]
  },
  {
   "cell_type": "code",
   "execution_count": 1,
   "metadata": {},
   "outputs": [
    {
     "name": "stdout",
     "output_type": "stream",
     "text": [
      "usage: jt [-h] [-l] [-t THEME] [-f MONOFONT] [-fs MONOSIZE] [-nf NBFONT]\n",
      "          [-nfs NBFONTSIZE] [-tf TCFONT] [-tfs TCFONTSIZE] [-dfs DFFONTSIZE]\n",
      "          [-ofs OUTFONTSIZE] [-mathfs MATHFONTSIZE] [-m MARGINS]\n",
      "          [-cursw CURSORWIDTH] [-cursc CURSORCOLOR] [-cellw CELLWIDTH]\n",
      "          [-lineh LINEHEIGHT] [-altp] [-altmd] [-altout] [-P] [-T] [-N] [-vim]\n",
      "          [-r] [-dfonts]\n",
      "\n",
      "optional arguments:\n",
      "  -h, --help            show this help message and exit\n",
      "  -l, --list            list available themes\n",
      "  -t THEME, --theme THEME\n",
      "                        theme name to install\n",
      "  -f MONOFONT, --monofont MONOFONT\n",
      "                        monospace code font\n",
      "  -fs MONOSIZE, --monosize MONOSIZE\n",
      "                        code font-size\n",
      "  -nf NBFONT, --nbfont NBFONT\n",
      "                        notebook font\n",
      "  -nfs NBFONTSIZE, --nbfontsize NBFONTSIZE\n",
      "                        notebook fontsize\n",
      "  -tf TCFONT, --tcfont TCFONT\n",
      "                        txtcell font\n",
      "  -tfs TCFONTSIZE, --tcfontsize TCFONTSIZE\n",
      "                        txtcell fontsize\n",
      "  -dfs DFFONTSIZE, --dffontsize DFFONTSIZE\n",
      "                        pandas dataframe fontsize\n",
      "  -ofs OUTFONTSIZE, --outfontsize OUTFONTSIZE\n",
      "                        output area fontsize\n",
      "  -mathfs MATHFONTSIZE, --mathfontsize MATHFONTSIZE\n",
      "                        mathjax fontsize (in %)\n",
      "  -m MARGINS, --margins MARGINS\n",
      "                        fix margins of main intro page\n",
      "  -cursw CURSORWIDTH, --cursorwidth CURSORWIDTH\n",
      "                        set cursorwidth (px)\n",
      "  -cursc CURSORCOLOR, --cursorcolor CURSORCOLOR\n",
      "                        cursor color (r, b, g, p)\n",
      "  -cellw CELLWIDTH, --cellwidth CELLWIDTH\n",
      "                        set cell width (px or %)\n",
      "  -lineh LINEHEIGHT, --lineheight LINEHEIGHT\n",
      "                        code/text line-height (%)\n",
      "  -altp, --altprompt    alt input prompt style\n",
      "  -altmd, --altmarkdown\n",
      "                        alt markdown cell style\n",
      "  -altout, --altoutput  set output bg color to notebook bg\n",
      "  -P, --hideprompt      hide cell input prompt\n",
      "  -T, --toolbar         make toolbar visible\n",
      "  -N, --nbname          nb name/logo visible\n",
      "  -vim, --vimext        toggle styles for vim\n",
      "  -r, --reset           reset to default theme\n",
      "  -dfonts, --defaultfonts\n",
      "                        force fonts to browser default\n"
     ]
    }
   ],
   "source": [
    "!jt -h"
   ]
  },
  {
   "cell_type": "code",
   "execution_count": 1,
   "metadata": {},
   "outputs": [
    {
     "name": "stdout",
     "output_type": "stream",
     "text": [
      "Available Themes: \r\n",
      "   chesterish\r\n",
      "   grade3\r\n",
      "   gruvboxd\r\n",
      "   gruvboxl\r\n",
      "   monokai\r\n",
      "   oceans16\r\n",
      "   onedork\r\n",
      "   solarizedd\r\n",
      "   solarizedl\r\n"
     ]
    }
   ],
   "source": [
    "!jt -l"
   ]
  },
  {
   "cell_type": "code",
   "execution_count": 2,
   "metadata": {},
   "outputs": [
    {
     "name": "stdout",
     "output_type": "stream",
     "text": [
      "Available Themes: \n",
      "   chesterish\n",
      "   grade3\n",
      "   gruvboxd\n",
      "   gruvboxl\n",
      "   monokai\n",
      "   oceans16\n",
      "   onedork\n",
      "   solarizedd\n",
      "   solarizedl\n"
     ]
    }
   ],
   "source": [
    "%%bash\n",
    "jt -t gruvboxd -T -cellw 99% \\\n",
    "   -P -lineh 180 \\\n",
    "   -f roboto -fs 10 -ofs 10 \\\n",
    "   -tf robotosans -nf ptsans \\\n",
    "   -nfs 10 -tfs 11 -dfs 10\n",
    "jt -l"
   ]
  },
  {
   "cell_type": "markdown",
   "metadata": {},
   "source": [
    "\\# vvv  restart jupyter service (dangerous)  vvv"
   ]
  },
  {
   "cell_type": "code",
   "execution_count": null,
   "metadata": {},
   "outputs": [],
   "source": [
    "!systemctl --user restart jupyter"
   ]
  },
  {
   "cell_type": "code",
   "execution_count": null,
   "metadata": {},
   "outputs": [],
   "source": []
  }
 ],
 "metadata": {
  "kernelspec": {
   "display_name": "Python 3",
   "language": "python",
   "name": "python3"
  },
  "language_info": {
   "codemirror_mode": {
    "name": "ipython",
    "version": 3
   },
   "file_extension": ".py",
   "mimetype": "text/x-python",
   "name": "python",
   "nbconvert_exporter": "python",
   "pygments_lexer": "ipython3",
   "version": "3.5.2"
  }
 },
 "nbformat": 4,
 "nbformat_minor": 2
}
