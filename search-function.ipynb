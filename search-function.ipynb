{
 "cells": [
  {
   "cell_type": "markdown",
   "metadata": {},
   "source": [
    "## Searching for a function"
   ]
  },
  {
   "cell_type": "code",
   "execution_count": 4,
   "metadata": {},
   "outputs": [],
   "source": [
    "class get_funcs_like:\n",
    "    def __init__(self, module_name, pattern):\n",
    "        self._root_module = __import__(module_name)\n",
    "        self._pattern = pattern\n",
    "        self._visited = set()\n",
    "        self._result = None\n",
    " \n",
    "    def _find_in(self, module):\n",
    "        import inspect\n",
    "\n",
    "        if module.__name__ in self._visited:\n",
    "            return\n",
    "        self._visited.add(module.__name__)\n",
    "\n",
    "        for name, obj in inspect.getmembers(module):\n",
    "            if callable(obj) and not inspect.isclass(obj):\n",
    "                try:\n",
    "                    f_name = obj.__name__\n",
    "                    f_module = obj.__module__\n",
    "                except AttributeError:\n",
    "                    continue\n",
    "                if f_name and self._pattern in f_name and not f_name.startswith('_'):\n",
    "                    if f_module and self._root_module.__name__ in f_module:\n",
    "                        self._result.add(f_module + '.' + f_name)\n",
    "\n",
    "        for name, obj in inspect.getmembers(module, inspect.ismodule):\n",
    "            if obj.__name__.startswith(self._root_module.__name__ + '.'):\n",
    "                self._find_in(obj)\n",
    "\n",
    "    @property\n",
    "    def result(self):\n",
    "        if self._result is None:\n",
    "            self._result = set()\n",
    "            self._find_in(self._root_module)\n",
    "            self._result = sorted(self._result)\n",
    "        return self._result\n",
    "\n",
    "    def __repr__(self):\n",
    "        return '\\n'.join(self.result)\n",
    "    \n",
    "    def __iter__(self):\n",
    "        return iter(self.result)"
   ]
  },
  {
   "cell_type": "code",
   "execution_count": 6,
   "metadata": {},
   "outputs": [
    {
     "data": {
      "text/plain": [
       "sympy.core.numbers.sympify_complex\n",
       "sympy.core.numbers.sympify_fractions\n",
       "sympy.core.numbers.sympify_mpmath\n",
       "sympy.core.sympify.sympify\n",
       "sympy.matrices.immutable.sympify_matrix\n",
       "sympy.polys.domains.pythonrational.sympify_pythonrational"
      ]
     },
     "execution_count": 6,
     "metadata": {},
     "output_type": "execute_result"
    }
   ],
   "source": [
    "get_funcs_like('sympy', 'sympify')"
   ]
  },
  {
   "cell_type": "code",
   "execution_count": null,
   "metadata": {},
   "outputs": [],
   "source": []
  }
 ],
 "metadata": {
  "kernelspec": {
   "display_name": "Python [default]",
   "language": "python",
   "name": "python3"
  },
  "language_info": {
   "codemirror_mode": {
    "name": "ipython",
    "version": 3
   },
   "file_extension": ".py",
   "mimetype": "text/x-python",
   "name": "python",
   "nbconvert_exporter": "python",
   "pygments_lexer": "ipython3",
   "version": "3.6.3"
  }
 },
 "nbformat": 4,
 "nbformat_minor": 2
}
