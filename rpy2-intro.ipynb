{
 "cells": [
  {
   "cell_type": "code",
   "execution_count": 1,
   "metadata": {},
   "outputs": [
    {
     "name": "stdout",
     "output_type": "stream",
     "text": [
      "C:\\Anaconda3\\envs\\py36 3.6.3 |Anaconda, Inc.| (default, Nov  8 2017, 15:10:56) [MSC v.1900 64 bit (AMD64)]\n"
     ]
    }
   ],
   "source": [
    "import sys\n",
    "print(sys.prefix, sys.version)"
   ]
  },
  {
   "cell_type": "code",
   "execution_count": 2,
   "metadata": {},
   "outputs": [],
   "source": [
    "import numpy as np\n",
    "import scipy as sp\n",
    "import pandas as pd\n",
    "import matplotlib as mpl\n",
    "import matplotlib.pyplot as plt"
   ]
  },
  {
   "cell_type": "code",
   "execution_count": 3,
   "metadata": {},
   "outputs": [
    {
     "data": {
      "text/plain": [
       "'2.9.0'"
      ]
     },
     "execution_count": 3,
     "metadata": {},
     "output_type": "execute_result"
    }
   ],
   "source": [
    "import rpy2\n",
    "rpy2.__version__"
   ]
  },
  {
   "cell_type": "code",
   "execution_count": 4,
   "metadata": {},
   "outputs": [
    {
     "data": {
      "text/plain": [
       "('3', '4.2', '', 73368)"
      ]
     },
     "execution_count": 4,
     "metadata": {},
     "output_type": "execute_result"
    }
   ],
   "source": [
    "from rpy2.rinterface import R_VERSION_BUILD\n",
    "R_VERSION_BUILD"
   ]
  },
  {
   "cell_type": "code",
   "execution_count": 5,
   "metadata": {},
   "outputs": [],
   "source": [
    "from rpy2 import robjects as ro\n",
    "from rpy2.robjects import r as r\n",
    "from rpy2.robjects import globalenv as rge\n",
    "from rpy2.robjects.packages import importr"
   ]
  },
  {
   "cell_type": "code",
   "execution_count": 6,
   "metadata": {},
   "outputs": [
    {
     "data": {
      "text/html": [
       "\n",
       "    <span>FloatVector with 1 elements.</span>\n",
       "    <table>\n",
       "      <tbody>\n",
       "      <tr>\n",
       "      \n",
       "      <td>\n",
       "        18.849556\n",
       "      </td>\n",
       "      \n",
       "      </tr>\n",
       "      </tbody>\n",
       "    </table>\n",
       "    "
      ],
      "text/plain": [
       "R object with classes: ('numeric',) mapped to:\n",
       "<FloatVector - Python:0x000000398B662148 / R:0x000000398D531238>\n",
       "[18.849556]"
      ]
     },
     "execution_count": 6,
     "metadata": {},
     "output_type": "execute_result"
    }
   ],
   "source": [
    "r('''\n",
    "# create a function `f`\n",
    "f <- function(r, verbose=FALSE) {\n",
    "    if (verbose) {\n",
    "        cat(\"I am calling f().\\n\")\n",
    "    }\n",
    "    2 * pi * r\n",
    "}\n",
    "# call the function `f` with argument value 3\n",
    "f(3)\n",
    "''')"
   ]
  },
  {
   "cell_type": "code",
   "execution_count": 7,
   "metadata": {},
   "outputs": [
    {
     "data": {
      "text/html": [
       "\n",
       "    <span>FloatVector with 1 elements.</span>\n",
       "    <table>\n",
       "      <tbody>\n",
       "      <tr>\n",
       "      \n",
       "      <td>\n",
       "        18.849556\n",
       "      </td>\n",
       "      \n",
       "      </tr>\n",
       "      </tbody>\n",
       "    </table>\n",
       "    "
      ],
      "text/plain": [
       "R object with classes: ('numeric',) mapped to:\n",
       "<FloatVector - Python:0x00000039886FB588 / R:0x000000398DBE9730>\n",
       "[18.849556]"
      ]
     },
     "execution_count": 7,
     "metadata": {},
     "output_type": "execute_result"
    }
   ],
   "source": [
    "r.f(3)"
   ]
  },
  {
   "cell_type": "code",
   "execution_count": 8,
   "metadata": {},
   "outputs": [
    {
     "data": {
      "text/plain": [
       "R object with classes: ('function',) mapped to:\n",
       "<SignatureTranslatedFunction - Python:0x0000003988A1AE08 / R:0x000000398D1CEE00>"
      ]
     },
     "execution_count": 8,
     "metadata": {},
     "output_type": "execute_result"
    }
   ],
   "source": [
    "rge['f']"
   ]
  },
  {
   "cell_type": "code",
   "execution_count": 9,
   "metadata": {},
   "outputs": [
    {
     "data": {
      "text/html": [
       "\n",
       "    <span>FloatVector with 1 elements.</span>\n",
       "    <table>\n",
       "      <tbody>\n",
       "      <tr>\n",
       "      \n",
       "      <td>\n",
       "        18.849556\n",
       "      </td>\n",
       "      \n",
       "      </tr>\n",
       "      </tbody>\n",
       "    </table>\n",
       "    "
      ],
      "text/plain": [
       "R object with classes: ('numeric',) mapped to:\n",
       "<FloatVector - Python:0x000000398DA22BC8 / R:0x000000398DBE94C0>\n",
       "[18.849556]"
      ]
     },
     "execution_count": 9,
     "metadata": {},
     "output_type": "execute_result"
    }
   ],
   "source": [
    "rge['f'](3)"
   ]
  },
  {
   "cell_type": "code",
   "execution_count": 10,
   "metadata": {},
   "outputs": [
    {
     "name": "stdout",
     "output_type": "stream",
     "text": [
      "[1] \"a-b-c-d-e-f-g-h-i-j-k-l-m-n-o-p-q-r-s-t-u-v-w-x-y-z\"\n",
      "\n"
     ]
    },
    {
     "data": {
      "text/html": [
       "\n",
       "    <span>StrVector with 1 elements.</span>\n",
       "    <table>\n",
       "      <tbody>\n",
       "      <tr>\n",
       "      \n",
       "      <td>\n",
       "        'a-b-c-d-e-f-g-h-i-j-k-l-m-n-o-p-q-r-s-t-u-v-w-x-...\n",
       "      </td>\n",
       "      \n",
       "      </tr>\n",
       "      </tbody>\n",
       "    </table>\n",
       "    "
      ],
      "text/plain": [
       "R object with classes: ('character',) mapped to:\n",
       "<StrVector - Python:0x00000039886DFF08 / R:0x000000398DBF5F20>\n",
       "['a-b-c-d-e-f-g-h-i-j-k-l-m-n-o-p-q-r-s-t-u-v-w-x-...]"
      ]
     },
     "execution_count": 10,
     "metadata": {},
     "output_type": "execute_result"
    }
   ],
   "source": [
    "letters = r['letters']\n",
    "rcode = 'paste(%s, collapse=\"-\")' % letters.r_repr()\n",
    "res = r(rcode)\n",
    "print(res)\n",
    "res"
   ]
  },
  {
   "cell_type": "code",
   "execution_count": 11,
   "metadata": {},
   "outputs": [
    {
     "name": "stdout",
     "output_type": "stream",
     "text": [
      "c(\"abc\", \"def\")\n",
      "1:3\n",
      "c(1.1, 2.2, 3.3)\n"
     ]
    }
   ],
   "source": [
    "res = ro.StrVector(['abc', 'def'])\n",
    "print(res.r_repr())\n",
    "res = ro.IntVector([1, 2, 3])\n",
    "print(res.r_repr())\n",
    "res = ro.FloatVector([1.1, 2.2, 3.3])\n",
    "print(res.r_repr())"
   ]
  },
  {
   "cell_type": "code",
   "execution_count": 12,
   "metadata": {},
   "outputs": [
    {
     "name": "stdout",
     "output_type": "stream",
     "text": [
      "     [,1] [,2] [,3]\n",
      "\r\n",
      "[1,]  1.1  3.3  5.5\n",
      "\r\n",
      "[2,]  2.2  4.4  6.6\n",
      "\n"
     ]
    }
   ],
   "source": [
    "v = ro.FloatVector([1.1, 2.2, 3.3, 4.4, 5.5, 6.6])\n",
    "m = r.matrix(v, nrow = 2)\n",
    "print(m)"
   ]
  },
  {
   "cell_type": "code",
   "execution_count": 13,
   "metadata": {},
   "outputs": [
    {
     "data": {
      "text/plain": [
       "6"
      ]
     },
     "execution_count": 13,
     "metadata": {},
     "output_type": "execute_result"
    }
   ],
   "source": [
    "r.sum(ro.IntVector([1,2,3]))[0]"
   ]
  },
  {
   "cell_type": "code",
   "execution_count": 14,
   "metadata": {},
   "outputs": [
    {
     "name": "stdout",
     "output_type": "stream",
     "text": [
      "c(3L, 2L, 1L)\n"
     ]
    },
    {
     "data": {
      "text/html": [
       "\n",
       "    <span>IntVector with 3 elements.</span>\n",
       "    <table>\n",
       "      <tbody>\n",
       "      <tr>\n",
       "      \n",
       "      <td>\n",
       "        3\n",
       "      </td>\n",
       "      \n",
       "      <td>\n",
       "        2\n",
       "      </td>\n",
       "      \n",
       "      <td>\n",
       "        1\n",
       "      </td>\n",
       "      \n",
       "      </tr>\n",
       "      </tbody>\n",
       "    </table>\n",
       "    "
      ],
      "text/plain": [
       "R object with classes: ('integer',) mapped to:\n",
       "<IntVector - Python:0x000000398DA22B88 / R:0x000000398DC67678>\n",
       "[3, 2, 1]"
      ]
     },
     "execution_count": 14,
     "metadata": {},
     "output_type": "execute_result"
    }
   ],
   "source": [
    "res = r.sort(ro.IntVector([1,2,3]), decreasing=True)\n",
    "print(res.r_repr())\n",
    "res"
   ]
  },
  {
   "cell_type": "markdown",
   "metadata": {},
   "source": [
    "## Linear models\n",
    "\n",
    "```r\n",
    "ctl <- c(4.17,5.58,5.18,6.11,4.50,4.61,5.17,4.53,5.33,5.14)\n",
    "trt <- c(4.81,4.17,4.41,3.59,5.87,3.83,6.03,4.89,4.32,4.69)\n",
    "group <- gl(2, 10, 20, labels = c(\"Ctl\",\"Trt\"))\n",
    "weight <- c(ctl, trt)\n",
    "\n",
    "anova(lm.D9 <- lm(weight ~ group))\n",
    "\n",
    "summary(lm.D90 <- lm(weight ~ group - 1))# omitting intercept\n",
    "```"
   ]
  },
  {
   "cell_type": "code",
   "execution_count": 15,
   "metadata": {
    "scrolled": true
   },
   "outputs": [],
   "source": [
    "from rpy2 import robjects as ro\n",
    "from rpy2.robjects import globalenv as rgenv\n",
    "from rpy2.robjects import FloatVector\n",
    "from rpy2.robjects.packages import importr\n",
    "\n",
    "stats = importr('stats')\n",
    "base = importr('base')\n",
    "\n",
    "ctl = FloatVector([4.17,5.58,5.18,6.11,4.50,4.61,5.17,4.53,5.33,5.14])\n",
    "trt = FloatVector([4.81,4.17,4.41,3.59,5.87,3.83,6.03,4.89,4.32,4.69])\n",
    "group = base.gl(2, 10, 20, labels = [\"Ctl\",\"Trt\"])\n",
    "weight = ctl + trt\n",
    "\n",
    "rgenv[\"weight\"] = weight\n",
    "rgenv[\"group\"] = group\n",
    "lm_D9 = stats.lm(\"weight ~ group\")\n",
    "\n",
    "# omitting the intercept\n",
    "lm_D90 = stats.lm(\"weight ~ group - 1\")\n",
    "#print(stats.anova(lm_D9), sep='', end='')\n",
    "#print(base.summary(lm_D90))"
   ]
  },
  {
   "cell_type": "code",
   "execution_count": 16,
   "metadata": {
    "scrolled": true
   },
   "outputs": [
    {
     "data": {
      "text/html": [
       "\n",
       "    <span>ListVector with 13 elements.</span>\n",
       "    <table>\n",
       "      <tbody>\n",
       "      \n",
       "      <tr>\n",
       "      <th>\n",
       "        coefficients\n",
       "      </th>\n",
       "      <td>\n",
       "        \n",
       "    <span>FloatVector with 2 elements.</span>\n",
       "    <table>\n",
       "      <tbody>\n",
       "      <tr>\n",
       "      \n",
       "      <td>\n",
       "        5.032000\n",
       "      </td>\n",
       "      \n",
       "      <td>\n",
       "        -0.371000\n",
       "      </td>\n",
       "      \n",
       "      </tr>\n",
       "      </tbody>\n",
       "    </table>\n",
       "    \n",
       "      </td>\n",
       "      </tr>\n",
       "      \n",
       "      <tr>\n",
       "      <th>\n",
       "        residuals\n",
       "      </th>\n",
       "      <td>\n",
       "        \n",
       "    <span>FloatVector with 20 elements.</span>\n",
       "    <table>\n",
       "      <tbody>\n",
       "      <tr>\n",
       "      \n",
       "      <td>\n",
       "        -0.862000\n",
       "      </td>\n",
       "      \n",
       "      <td>\n",
       "        0.548000\n",
       "      </td>\n",
       "      \n",
       "      <td>\n",
       "        0.148000\n",
       "      </td>\n",
       "      \n",
       "      <td>\n",
       "        1.078000\n",
       "      </td>\n",
       "      \n",
       "      <td>\n",
       "        ...\n",
       "      </td>\n",
       "      \n",
       "      <td>\n",
       "        1.369000\n",
       "      </td>\n",
       "      \n",
       "      <td>\n",
       "        0.229000\n",
       "      </td>\n",
       "      \n",
       "      <td>\n",
       "        -0.341000\n",
       "      </td>\n",
       "      \n",
       "      <td>\n",
       "        0.029000\n",
       "      </td>\n",
       "      \n",
       "      </tr>\n",
       "      </tbody>\n",
       "    </table>\n",
       "    \n",
       "      </td>\n",
       "      </tr>\n",
       "      \n",
       "      <tr>\n",
       "      <th>\n",
       "        effects\n",
       "      </th>\n",
       "      <td>\n",
       "        \n",
       "    <span>FloatVector with 20 elements.</span>\n",
       "    <table>\n",
       "      <tbody>\n",
       "      <tr>\n",
       "      \n",
       "      <td>\n",
       "        -21.674207\n",
       "      </td>\n",
       "      \n",
       "      <td>\n",
       "        -0.829581\n",
       "      </td>\n",
       "      \n",
       "      <td>\n",
       "        0.196516\n",
       "      </td>\n",
       "      \n",
       "      <td>\n",
       "        1.126516\n",
       "      </td>\n",
       "      \n",
       "      <td>\n",
       "        ...\n",
       "      </td>\n",
       "      \n",
       "      <td>\n",
       "        1.684286\n",
       "      </td>\n",
       "      \n",
       "      <td>\n",
       "        0.544286\n",
       "      </td>\n",
       "      \n",
       "      <td>\n",
       "        -0.025714\n",
       "      </td>\n",
       "      \n",
       "      <td>\n",
       "        0.344286\n",
       "      </td>\n",
       "      \n",
       "      </tr>\n",
       "      </tbody>\n",
       "    </table>\n",
       "    \n",
       "      </td>\n",
       "      </tr>\n",
       "      \n",
       "      <tr>\n",
       "      <th>\n",
       "        ...\n",
       "      </th>\n",
       "      <td>\n",
       "        ...\n",
       "      </td>\n",
       "      </tr>\n",
       "      \n",
       "      <tr>\n",
       "      <th>\n",
       "        call\n",
       "      </th>\n",
       "      <td>\n",
       "        \n",
       "    <span>Vector with 2 elements.</span>\n",
       "    <table>\n",
       "      <tbody>\n",
       "      <tr>\n",
       "      \n",
       "      <td>\n",
       "        SignatureTranslatedFunc...\n",
       "      </td>\n",
       "      \n",
       "      <td>\n",
       "        StrVector\n",
       "      </td>\n",
       "      \n",
       "      </tr>\n",
       "      </tbody>\n",
       "    </table>\n",
       "    \n",
       "      </td>\n",
       "      </tr>\n",
       "      \n",
       "      <tr>\n",
       "      <th>\n",
       "        terms\n",
       "      </th>\n",
       "      <td>\n",
       "        weight ~ group\n",
       "\r\n",
       "attr(,\"variables\")\n",
       "\r\n",
       "list(weight, group)\n",
       "\r\n",
       "attr(,\"factors\")\n",
       "\r\n",
       "       group\n",
       "\r\n",
       "weight     0\n",
       "\r\n",
       "group      1\n",
       "\r\n",
       "attr(,\"term.labels\")\n",
       "\r\n",
       "[1] \"group\"\n",
       "\r\n",
       "attr(,\"order\")\n",
       "\r\n",
       "[1] 1\n",
       "\r\n",
       "attr(,\"intercept\")\n",
       "\r\n",
       "[1] 1\n",
       "\r\n",
       "attr(,\"response\")\n",
       "\r\n",
       "[1] 1\n",
       "\r\n",
       "attr(,\".Environment\")\n",
       "\r\n",
       "<environment: 0x000000398fd5acd8>\n",
       "\r\n",
       "attr(,\"predvars\")\n",
       "\r\n",
       "list(weight, group)\n",
       "\r\n",
       "attr(,\"dataClasses\")\n",
       "\r\n",
       "   weight     group \n",
       "\r\n",
       "\"numeric\"  \"factor\" \n",
       "\n",
       "      </td>\n",
       "      </tr>\n",
       "      \n",
       "      <tr>\n",
       "      <th>\n",
       "        model\n",
       "      </th>\n",
       "      <td>\n",
       "        \n",
       "    <span>R/rpy2 DataFrame (20 x 2)</span>\n",
       "    <table>\n",
       "      <thead>\n",
       "        <tr>\n",
       "        \n",
       "          <th>weight</th>\n",
       "        \n",
       "          <th>group</th>\n",
       "        \n",
       "        </tr>\n",
       "      </thead>\n",
       "      <tbody>\n",
       "      \n",
       "      <tr>\n",
       "      \n",
       "      <td>\n",
       "        4.170000\n",
       "      </td>\n",
       "      \n",
       "      <td>\n",
       "        Ctl\n",
       "      </td>\n",
       "      \n",
       "      </tr>\n",
       "      \n",
       "      <tr>\n",
       "      \n",
       "      <td>\n",
       "        5.580000\n",
       "      </td>\n",
       "      \n",
       "      <td>\n",
       "        Ctl\n",
       "      </td>\n",
       "      \n",
       "      </tr>\n",
       "      \n",
       "      </tbody>\n",
       "    </table>\n",
       "    \n",
       "      </td>\n",
       "      </tr>\n",
       "      \n",
       "      </tbody>\n",
       "    </table>\n",
       "    "
      ],
      "text/plain": [
       "R object with classes: ('lm',) mapped to:\n",
       "<ListVector - Python:0x000000398FC31288 / R:0x000000398FDB79D0>\n",
       "[FloatVector, FloatVector, FloatVector, IntVector, ..., ListVector, Vector, Formula, DataFrame]\n",
       "  coefficients: <class 'rpy2.robjects.vectors.FloatVector'>\n",
       "  R object with classes: ('numeric',) mapped to:\n",
       "<FloatVector - Python:0x000000398DA29088 / R:0x000000398FD9EE00>\n",
       "[5.032000, -0.371000]\n",
       "  residuals: <class 'rpy2.robjects.vectors.FloatVector'>\n",
       "  R object with classes: ('numeric',) mapped to:\n",
       "<FloatVector - Python:0x000000398E00D5C8 / R:0x000000398FDA49E8>\n",
       "[-0.862000, 0.548000, 0.148000, 1.078000, ..., 1.369000, 0.229000, -0.341000, 0.029000]\n",
       "  effects: <class 'rpy2.robjects.vectors.FloatVector'>\n",
       "  R object with classes: ('numeric',) mapped to:\n",
       "<FloatVector - Python:0x000000398E00D508 / R:0x000000398FDA4AB8>\n",
       "[-21.674207, -0.829581, 0.196516, 1.126516, ..., 1.684286, 0.544286, -0.025714, 0.344286]\n",
       "  rank: <class 'rpy2.robjects.vectors.IntVector'>\n",
       "  R object with classes: ('integer',) mapped to:\n",
       "<IntVector - Python:0x000000398E00D7C8 / R:0x000000398FDA2548>\n",
       "[2]\n",
       "...\n",
       "R object with classes: ('lm',) mapped to:\n",
       "<ListVector - Python:0x000000398FC31288 / R:0x000000398FDB79D0>\n",
       "[FloatVector, FloatVector, FloatVector, IntVector, ..., ListVector, Vector, Formula, DataFrame]\n",
       "  qr: <class 'rpy2.robjects.vectors.Vector'>\n",
       "  R object with classes: ('lm',) mapped to:\n",
       "<Vector - Python:0x000000398FC02088 / R:0x000000398FD58240>\n",
       "[SignatureTranslatedFunc..., StrVector]\n",
       "  df.residual: <class 'rpy2.robjects.Formula'>\n",
       "  R object with classes: ('terms', 'formula') mapped to:\n",
       "<Formula - Python:0x000000398DA11D48 / R:0x000000398FD80190>\n",
       "R object with classes: ('lm',) mapped to:\n",
       "<ListVector - Python:0x000000398FC31288 / R:0x000000398FDB79D0>\n",
       "[FloatVector, FloatVector, FloatVector, IntVector, ..., ListVector, Vector, Formula, DataFrame]"
      ]
     },
     "execution_count": 16,
     "metadata": {},
     "output_type": "execute_result"
    }
   ],
   "source": [
    "lm_D9"
   ]
  },
  {
   "cell_type": "code",
   "execution_count": 17,
   "metadata": {
    "scrolled": true
   },
   "outputs": [
    {
     "data": {
      "text/html": [
       "\n",
       "    <span>ListVector with 13 elements.</span>\n",
       "    <table>\n",
       "      <tbody>\n",
       "      \n",
       "      <tr>\n",
       "      <th>\n",
       "        coefficients\n",
       "      </th>\n",
       "      <td>\n",
       "        \n",
       "    <span>FloatVector with 2 elements.</span>\n",
       "    <table>\n",
       "      <tbody>\n",
       "      <tr>\n",
       "      \n",
       "      <td>\n",
       "        5.032000\n",
       "      </td>\n",
       "      \n",
       "      <td>\n",
       "        4.661000\n",
       "      </td>\n",
       "      \n",
       "      </tr>\n",
       "      </tbody>\n",
       "    </table>\n",
       "    \n",
       "      </td>\n",
       "      </tr>\n",
       "      \n",
       "      <tr>\n",
       "      <th>\n",
       "        residuals\n",
       "      </th>\n",
       "      <td>\n",
       "        \n",
       "    <span>FloatVector with 20 elements.</span>\n",
       "    <table>\n",
       "      <tbody>\n",
       "      <tr>\n",
       "      \n",
       "      <td>\n",
       "        -0.862000\n",
       "      </td>\n",
       "      \n",
       "      <td>\n",
       "        0.548000\n",
       "      </td>\n",
       "      \n",
       "      <td>\n",
       "        0.148000\n",
       "      </td>\n",
       "      \n",
       "      <td>\n",
       "        1.078000\n",
       "      </td>\n",
       "      \n",
       "      <td>\n",
       "        ...\n",
       "      </td>\n",
       "      \n",
       "      <td>\n",
       "        1.369000\n",
       "      </td>\n",
       "      \n",
       "      <td>\n",
       "        0.229000\n",
       "      </td>\n",
       "      \n",
       "      <td>\n",
       "        -0.341000\n",
       "      </td>\n",
       "      \n",
       "      <td>\n",
       "        0.029000\n",
       "      </td>\n",
       "      \n",
       "      </tr>\n",
       "      </tbody>\n",
       "    </table>\n",
       "    \n",
       "      </td>\n",
       "      </tr>\n",
       "      \n",
       "      <tr>\n",
       "      <th>\n",
       "        effects\n",
       "      </th>\n",
       "      <td>\n",
       "        \n",
       "    <span>FloatVector with 20 elements.</span>\n",
       "    <table>\n",
       "      <tbody>\n",
       "      <tr>\n",
       "      \n",
       "      <td>\n",
       "        -15.912581\n",
       "      </td>\n",
       "      \n",
       "      <td>\n",
       "        -14.739376\n",
       "      </td>\n",
       "      \n",
       "      <td>\n",
       "        0.355098\n",
       "      </td>\n",
       "      \n",
       "      <td>\n",
       "        1.285098\n",
       "      </td>\n",
       "      \n",
       "      <td>\n",
       "        ...\n",
       "      </td>\n",
       "      \n",
       "      <td>\n",
       "        1.130217\n",
       "      </td>\n",
       "      \n",
       "      <td>\n",
       "        -0.009783\n",
       "      </td>\n",
       "      \n",
       "      <td>\n",
       "        -0.579783\n",
       "      </td>\n",
       "      \n",
       "      <td>\n",
       "        -0.209783\n",
       "      </td>\n",
       "      \n",
       "      </tr>\n",
       "      </tbody>\n",
       "    </table>\n",
       "    \n",
       "      </td>\n",
       "      </tr>\n",
       "      \n",
       "      <tr>\n",
       "      <th>\n",
       "        ...\n",
       "      </th>\n",
       "      <td>\n",
       "        ...\n",
       "      </td>\n",
       "      </tr>\n",
       "      \n",
       "      <tr>\n",
       "      <th>\n",
       "        call\n",
       "      </th>\n",
       "      <td>\n",
       "        \n",
       "    <span>Vector with 2 elements.</span>\n",
       "    <table>\n",
       "      <tbody>\n",
       "      <tr>\n",
       "      \n",
       "      <td>\n",
       "        SignatureTranslatedFunc...\n",
       "      </td>\n",
       "      \n",
       "      <td>\n",
       "        StrVector\n",
       "      </td>\n",
       "      \n",
       "      </tr>\n",
       "      </tbody>\n",
       "    </table>\n",
       "    \n",
       "      </td>\n",
       "      </tr>\n",
       "      \n",
       "      <tr>\n",
       "      <th>\n",
       "        terms\n",
       "      </th>\n",
       "      <td>\n",
       "        weight ~ group - 1\n",
       "\r\n",
       "attr(,\"variables\")\n",
       "\r\n",
       "list(weight, group)\n",
       "\r\n",
       "attr(,\"factors\")\n",
       "\r\n",
       "       group\n",
       "\r\n",
       "weight     0\n",
       "\r\n",
       "group      1\n",
       "\r\n",
       "attr(,\"term.labels\")\n",
       "\r\n",
       "[1] \"group\"\n",
       "\r\n",
       "attr(,\"order\")\n",
       "\r\n",
       "[1] 1\n",
       "\r\n",
       "attr(,\"intercept\")\n",
       "\r\n",
       "[1] 0\n",
       "\r\n",
       "attr(,\"response\")\n",
       "\r\n",
       "[1] 1\n",
       "\r\n",
       "attr(,\".Environment\")\n",
       "\r\n",
       "<environment: 0x000000398fdbc658>\n",
       "\r\n",
       "attr(,\"predvars\")\n",
       "\r\n",
       "list(weight, group)\n",
       "\r\n",
       "attr(,\"dataClasses\")\n",
       "\r\n",
       "   weight     group \n",
       "\r\n",
       "\"numeric\"  \"factor\" \n",
       "\n",
       "      </td>\n",
       "      </tr>\n",
       "      \n",
       "      <tr>\n",
       "      <th>\n",
       "        model\n",
       "      </th>\n",
       "      <td>\n",
       "        \n",
       "    <span>R/rpy2 DataFrame (20 x 2)</span>\n",
       "    <table>\n",
       "      <thead>\n",
       "        <tr>\n",
       "        \n",
       "          <th>weight</th>\n",
       "        \n",
       "          <th>group</th>\n",
       "        \n",
       "        </tr>\n",
       "      </thead>\n",
       "      <tbody>\n",
       "      \n",
       "      <tr>\n",
       "      \n",
       "      <td>\n",
       "        4.170000\n",
       "      </td>\n",
       "      \n",
       "      <td>\n",
       "        Ctl\n",
       "      </td>\n",
       "      \n",
       "      </tr>\n",
       "      \n",
       "      <tr>\n",
       "      \n",
       "      <td>\n",
       "        5.580000\n",
       "      </td>\n",
       "      \n",
       "      <td>\n",
       "        Ctl\n",
       "      </td>\n",
       "      \n",
       "      </tr>\n",
       "      \n",
       "      </tbody>\n",
       "    </table>\n",
       "    \n",
       "      </td>\n",
       "      </tr>\n",
       "      \n",
       "      </tbody>\n",
       "    </table>\n",
       "    "
      ],
      "text/plain": [
       "R object with classes: ('lm',) mapped to:\n",
       "<ListVector - Python:0x000000398FC31508 / R:0x000000398FE15728>\n",
       "[FloatVector, FloatVector, FloatVector, IntVector, ..., ListVector, Vector, Formula, DataFrame]\n",
       "  coefficients: <class 'rpy2.robjects.vectors.FloatVector'>\n",
       "  R object with classes: ('numeric',) mapped to:\n",
       "<FloatVector - Python:0x000000398DA11AC8 / R:0x000000398FDF17D8>\n",
       "[5.032000, 4.661000]\n",
       "  residuals: <class 'rpy2.robjects.vectors.FloatVector'>\n",
       "  R object with classes: ('numeric',) mapped to:\n",
       "<FloatVector - Python:0x000000398E00D508 / R:0x000000398FE02890>\n",
       "[-0.862000, 0.548000, 0.148000, 1.078000, ..., 1.369000, 0.229000, -0.341000, 0.029000]\n",
       "  effects: <class 'rpy2.robjects.vectors.FloatVector'>\n",
       "  R object with classes: ('numeric',) mapped to:\n",
       "<FloatVector - Python:0x000000398FC22988 / R:0x000000398FE02960>\n",
       "[-15.912581, -14.739376, 0.355098, 1.285098, ..., 1.130217, -0.009783, -0.579783, -0.209783]\n",
       "  rank: <class 'rpy2.robjects.vectors.IntVector'>\n",
       "  R object with classes: ('integer',) mapped to:\n",
       "<IntVector - Python:0x000000398FC22B08 / R:0x000000398FDFDA18>\n",
       "[2]\n",
       "...\n",
       "R object with classes: ('lm',) mapped to:\n",
       "<ListVector - Python:0x000000398FC31508 / R:0x000000398FE15728>\n",
       "[FloatVector, FloatVector, FloatVector, IntVector, ..., ListVector, Vector, Formula, DataFrame]\n",
       "  qr: <class 'rpy2.robjects.vectors.Vector'>\n",
       "  R object with classes: ('lm',) mapped to:\n",
       "<Vector - Python:0x000000398FC22E88 / R:0x000000398FDB8438>\n",
       "[SignatureTranslatedFunc..., StrVector]\n",
       "  df.residual: <class 'rpy2.robjects.Formula'>\n",
       "  R object with classes: ('terms', 'formula') mapped to:\n",
       "<Formula - Python:0x000000398FBBA188 / R:0x000000398FDE0938>\n",
       "R object with classes: ('lm',) mapped to:\n",
       "<ListVector - Python:0x000000398FC31508 / R:0x000000398FE15728>\n",
       "[FloatVector, FloatVector, FloatVector, IntVector, ..., ListVector, Vector, Formula, DataFrame]"
      ]
     },
     "execution_count": 17,
     "metadata": {},
     "output_type": "execute_result"
    }
   ],
   "source": [
    "lm_D90"
   ]
  },
  {
   "cell_type": "code",
   "execution_count": 18,
   "metadata": {},
   "outputs": [
    {
     "name": "stdout",
     "output_type": "stream",
     "text": [
      "lm\n"
     ]
    }
   ],
   "source": [
    "print(lm_D9.rclass[0])"
   ]
  },
  {
   "cell_type": "code",
   "execution_count": 19,
   "metadata": {},
   "outputs": [
    {
     "name": "stdout",
     "output_type": "stream",
     "text": [
      " [1] \"coefficients\"  \"residuals\"     \"effects\"       \"rank\"         \n",
      "\r\n",
      " [5] \"fitted.values\" \"assign\"        \"qr\"            \"df.residual\"  \n",
      "\r\n",
      " [9] \"contrasts\"     \"xlevels\"       \"call\"          \"terms\"        \n",
      "\r\n",
      "[13] \"model\"        \n",
      "\n"
     ]
    }
   ],
   "source": [
    "print(lm_D9.names)"
   ]
  },
  {
   "cell_type": "code",
   "execution_count": 20,
   "metadata": {},
   "outputs": [
    {
     "name": "stdout",
     "output_type": "stream",
     "text": [
      "(Intercept)    groupTrt \n",
      "\r\n",
      "      5.032      -0.371 \n",
      "\n"
     ]
    }
   ],
   "source": [
    "print(lm_D9.rx2('coefficients'))"
   ]
  },
  {
   "cell_type": "markdown",
   "metadata": {},
   "source": [
    "## One more example"
   ]
  },
  {
   "cell_type": "code",
   "execution_count": 21,
   "metadata": {},
   "outputs": [
    {
     "data": {
      "text/plain": [
       "rpy2.rinterface.NULL"
      ]
     },
     "execution_count": 21,
     "metadata": {},
     "output_type": "execute_result"
    }
   ],
   "source": [
    "from rpy2.robjects.packages import importr\n",
    "graphics = importr('graphics')\n",
    "grdevices = importr('grDevices')\n",
    "base = importr('base')\n",
    "stats = importr('stats')\n",
    "\n",
    "import array\n",
    "\n",
    "x = array.array('i', range(10))\n",
    "y = stats.rnorm(10)\n",
    "\n",
    "grdevices.X11()\n",
    "\n",
    "graphics.par(mfrow = array.array('i', [2,2]))\n",
    "graphics.plot(x, y, ylab = \"foo/bar\", col = \"red\")\n",
    "\n",
    "kwargs = {'ylab':\"foo/bar\", 'type':\"b\", 'col':\"blue\", 'log':\"x\"}\n",
    "graphics.plot(x, y, **kwargs)\n",
    "\n",
    "\n",
    "m = base.matrix(stats.rnorm(100), ncol=5)\n",
    "pca = stats.princomp(m)\n",
    "graphics.plot(pca, main=\"Eigen values\")\n",
    "stats.biplot(pca, main=\"biplot\")"
   ]
  },
  {
   "cell_type": "code",
   "execution_count": 22,
   "metadata": {},
   "outputs": [],
   "source": [
    "_ = grdevices.dev_off()"
   ]
  },
  {
   "cell_type": "markdown",
   "metadata": {},
   "source": [
    "### Rmagic\n",
    "\n",
    "https://ipython.org/ipython-doc/2/config/extensions/rmagic.html"
   ]
  },
  {
   "cell_type": "code",
   "execution_count": 23,
   "metadata": {},
   "outputs": [
    {
     "name": "stderr",
     "output_type": "stream",
     "text": [
      "C:\\Anaconda3\\envs\\py36\\lib\\site-packages\\IPython\\extensions\\rmagic.py:11: UserWarning: The rmagic extension in IPython has moved to `rpy2.ipython`, please see `rpy2` documentation.\n",
      "  warnings.warn(\"The rmagic extension in IPython has moved to \"\n"
     ]
    }
   ],
   "source": [
    "%load_ext rmagic"
   ]
  },
  {
   "cell_type": "code",
   "execution_count": 24,
   "metadata": {},
   "outputs": [
    {
     "name": "stderr",
     "output_type": "stream",
     "text": [
      "ERROR:root:Cell magic `%%R` not found.\n"
     ]
    }
   ],
   "source": [
    "%%R\n",
    "Y = c(2,4,3,9)\n",
    "summary(lm(Y~X))"
   ]
  },
  {
   "cell_type": "markdown",
   "metadata": {},
   "source": [
    "### Process interactive events\n",
    "\n",
    "https://rpy2.readthedocs.io/en/version_2.8.x/introduction.html#graphics-and-plots\n",
    "\n",
    "By default, the embedded R open an interactive plotting device, that is a window in which the plot is located. Processing interactive events on that devices, such as resizing or closing the window must be explicitly required.\n",
    "\n",
    "https://rpy2.readthedocs.io/en/version_2.8.x/rinterface.html#rinterface-interactive-processevents\n",
    "\n",
    "An interactive R session is can start interactive activities that require a continuous monitoring for events. A typical example is the interactive graphical devices (plotting windows), as they can be resized and the information they display is refreshed.\n",
    "\n",
    "However, to do so the R process must be instructed to process pending interactive events. This is done by the R console for example, but rpy2 is designed as a library rather than a threaded R process running within Python (yet this can be done as shown below).\n",
    "\n",
    "The way to restore interactivity is to simply call the function `rinterface.process_revents()` at regular intervals.\n",
    "\n",
    "https://rpy2.readthedocs.io/en/version_2.8.x/interactive.html#interactive-reventloop\n",
    "\n",
    "In order to perform operations like refreshing interactive graphical devices, R need to process the events triggering the refresh.\n",
    "\n",
    "    from rpy2.interactive import process_revents\n",
    "    process_revents.start()\n",
    "\n",
    "    from rpy2.robjects.packages import importr\n",
    "    from rpy2.robjects.vectors import IntVector\n",
    "    graphics = importr(\"graphics\")\n",
    "    graphics.barplot(IntVector((1,3,2,5,4)), ylab=\"Value\")\n",
    "\n",
    "Now the R graphical device is updated when resized. Should one wish to stop processing the events:\n",
    "\n",
    "    process_revents.stop()"
   ]
  },
  {
   "cell_type": "markdown",
   "metadata": {},
   "source": [
    "### Graphics: General setup"
   ]
  },
  {
   "cell_type": "code",
   "execution_count": 25,
   "metadata": {},
   "outputs": [
    {
     "name": "stderr",
     "output_type": "stream",
     "text": [
      "C:\\Anaconda3\\envs\\py36\\lib\\site-packages\\rpy2-2.9.0-py3.6-win-amd64.egg\\rpy2\\robjects\\packages.py:347: UserWarning: The symbol 'quartz' is not in this R namespace/package.\n",
      "  warnings.warn(\"The symbol '%s' is not in this R namespace/package.\" % name)\n"
     ]
    }
   ],
   "source": [
    "# Close graphics\n",
    "from rpy2.interactive import process_revents\n",
    "from rpy2.robjects.lib import grdevices as gr_devices\n",
    "\n",
    "def rgraphics_close():\n",
    "    try:\n",
    "        process_revents.stop()\n",
    "    except:\n",
    "        pass\n",
    "    try:\n",
    "        gr_devices.dev_off()\n",
    "    except:\n",
    "        pass\n",
    "\n",
    "def rgraphics_events():\n",
    "    rgraphics_close()\n",
    "    process_revents.start()\n",
    "    return process_revents.EventProcessor.interval"
   ]
  },
  {
   "cell_type": "code",
   "execution_count": 26,
   "metadata": {},
   "outputs": [
    {
     "data": {
      "text/plain": [
       "0.2"
      ]
     },
     "execution_count": 26,
     "metadata": {},
     "output_type": "execute_result"
    }
   ],
   "source": [
    "rgraphics_close()\n",
    "rgraphics_events()"
   ]
  },
  {
   "cell_type": "code",
   "execution_count": 27,
   "metadata": {},
   "outputs": [],
   "source": [
    "# Open graphics\n",
    "\n",
    "from rpy2 import robjects as ro\n",
    "from rpy2.robjects import r\n",
    "from rpy2.robjects import Formula, Environment\n",
    "from rpy2.robjects.vectors import IntVector, FloatVector\n",
    "from rpy2.robjects.lib import grid\n",
    "from rpy2.robjects.packages import importr, data\n",
    "from rpy2.rinterface import RRuntimeError\n",
    "import warnings\n",
    "\n",
    "rprint = ro.globalenv.get(\"print\")  # The R 'print' function\n",
    "stats = importr('stats')\n",
    "grdev = importr('grDevices')\n",
    "base = importr('base')\n",
    "datasets = importr('datasets')"
   ]
  },
  {
   "cell_type": "code",
   "execution_count": 28,
   "metadata": {},
   "outputs": [],
   "source": [
    "grid.activate()"
   ]
  },
  {
   "cell_type": "markdown",
   "metadata": {},
   "source": [
    "----"
   ]
  },
  {
   "cell_type": "code",
   "execution_count": 29,
   "metadata": {},
   "outputs": [
    {
     "data": {
      "text/plain": [
       "rpy2.rinterface.NULL"
      ]
     },
     "execution_count": 29,
     "metadata": {},
     "output_type": "execute_result"
    }
   ],
   "source": [
    "x = ro.IntVector(range(10))\n",
    "y = r.rnorm(10)\n",
    "r.X11()\n",
    "r.layout(r.matrix(ro.IntVector([1,2,3,2]), nrow=2, ncol=2))\n",
    "r.plot(r.runif(10), y, xlab=\"runif\", ylab=\"foo/bar\", col=\"red\")"
   ]
  },
  {
   "cell_type": "code",
   "execution_count": 30,
   "metadata": {},
   "outputs": [],
   "source": [
    "from rpy2.robjects.packages import importr\n",
    "from rpy2.robjects.vectors import IntVector\n",
    "graphics = importr(\"graphics\")\n",
    "_ = graphics.barplot(IntVector((1,3,2,5,4)), ylab=\"Value\")"
   ]
  },
  {
   "cell_type": "code",
   "execution_count": 31,
   "metadata": {},
   "outputs": [
    {
     "data": {
      "text/html": [
       "\n",
       "    <span>ListVector with 45 elements.</span>\n",
       "    <table>\n",
       "      <tbody>\n",
       "      \n",
       "      <tr>\n",
       "      <th>\n",
       "        formula\n",
       "      </th>\n",
       "      <td>\n",
       "        mpg ~ wt\n",
       "\n",
       "      </td>\n",
       "      </tr>\n",
       "      \n",
       "      <tr>\n",
       "      <th>\n",
       "        as.table\n",
       "      </th>\n",
       "      <td>\n",
       "        \n",
       "    <span>BoolVector with 1 elements.</span>\n",
       "    <table>\n",
       "      <tbody>\n",
       "      <tr>\n",
       "      \n",
       "      <td>\n",
       "               0\n",
       "      </td>\n",
       "      \n",
       "      </tr>\n",
       "      </tbody>\n",
       "    </table>\n",
       "    \n",
       "      </td>\n",
       "      </tr>\n",
       "      \n",
       "      <tr>\n",
       "      <th>\n",
       "        aspect.fill\n",
       "      </th>\n",
       "      <td>\n",
       "        \n",
       "    <span>BoolVector with 1 elements.</span>\n",
       "    <table>\n",
       "      <tbody>\n",
       "      <tr>\n",
       "      \n",
       "      <td>\n",
       "               1\n",
       "      </td>\n",
       "      \n",
       "      </tr>\n",
       "      </tbody>\n",
       "    </table>\n",
       "    \n",
       "      </td>\n",
       "      </tr>\n",
       "      \n",
       "      <tr>\n",
       "      <th>\n",
       "        ...\n",
       "      </th>\n",
       "      <td>\n",
       "        ...\n",
       "      </td>\n",
       "      </tr>\n",
       "      \n",
       "      <tr>\n",
       "      <th>\n",
       "        aspect.ratio\n",
       "      </th>\n",
       "      <td>\n",
       "        \n",
       "    <span>FloatVector with 1 elements.</span>\n",
       "    <table>\n",
       "      <tbody>\n",
       "      <tr>\n",
       "      \n",
       "      <td>\n",
       "        1.000000\n",
       "      </td>\n",
       "      \n",
       "      </tr>\n",
       "      </tbody>\n",
       "    </table>\n",
       "    \n",
       "      </td>\n",
       "      </tr>\n",
       "      \n",
       "      <tr>\n",
       "      <th>\n",
       "        prepanel.default\n",
       "      </th>\n",
       "      <td>\n",
       "        \n",
       "    <span>StrVector with 1 elements.</span>\n",
       "    <table>\n",
       "      <tbody>\n",
       "      <tr>\n",
       "      \n",
       "      <td>\n",
       "        'prepanel.default.xyplot'\n",
       "      </td>\n",
       "      \n",
       "      </tr>\n",
       "      </tbody>\n",
       "    </table>\n",
       "    \n",
       "      </td>\n",
       "      </tr>\n",
       "      \n",
       "      <tr>\n",
       "      <th>\n",
       "        prepanel\n",
       "      </th>\n",
       "      <td>\n",
       "        NULL\n",
       "      </td>\n",
       "      </tr>\n",
       "      \n",
       "      </tbody>\n",
       "    </table>\n",
       "    "
      ],
      "text/plain": [
       "R object with classes: ('trellis',) mapped to:\n",
       "<ListVector - Python:0x00000039911D7F88 / R:0x0000003990B52680>\n",
       "[Formula, BoolVector, BoolVector, RNULLType, ..., RNULLType, FloatVector, StrVector, RNULLType]\n",
       "  formula: <class 'rpy2.robjects.Formula'>\n",
       "  R object with classes: ('formula',) mapped to:\n",
       "<Formula - Python:0x000000399090D548 / R:0x000000398BAED3D0>\n",
       "  as.table: <class 'rpy2.robjects.vectors.BoolVector'>\n",
       "  R object with classes: ('logical',) mapped to:\n",
       "<BoolVector - Python:0x0000003990923188 / R:0x0000003991166F00>\n",
       "[       0]\n",
       "  aspect.fill: <class 'rpy2.robjects.vectors.BoolVector'>\n",
       "  R object with classes: ('logical',) mapped to:\n",
       "<BoolVector - Python:0x0000003990923148 / R:0x000000399096D670>\n",
       "[       1]\n",
       "  legend: <class 'rpy2.rinterface.RNULLType'>\n",
       "  rpy2.rinterface.NULL\n",
       "...\n",
       "  page: <class 'rpy2.rinterface.RNULLType'>\n",
       "  rpy2.rinterface.NULL\n",
       "  layout: <class 'rpy2.robjects.vectors.FloatVector'>\n",
       "  R object with classes: ('numeric',) mapped to:\n",
       "<FloatVector - Python:0x0000003990ECCEC8 / R:0x000000398FEB8C30>\n",
       "[1.000000]\n",
       "  skip: <class 'rpy2.robjects.vectors.StrVector'>\n",
       "  R object with classes: ('character',) mapped to:\n",
       "<StrVector - Python:0x000000398DC865C8 / R:0x0000003991170BB0>\n",
       "['prepanel.default.xyplot']\n",
       "  strip: <class 'rpy2.rinterface.RNULLType'>\n",
       "  rpy2.rinterface.NULL"
      ]
     },
     "execution_count": 31,
     "metadata": {},
     "output_type": "execute_result"
    }
   ],
   "source": [
    "lattice = importr('lattice')\n",
    "xyplot = lattice.xyplot\n",
    "datasets = importr('datasets')\n",
    "mtcars = data(datasets).fetch('mtcars')['mtcars']\n",
    "formula = Formula('mpg ~ wt')\n",
    "formula.getenvironment()['mpg'] = mtcars.rx2('mpg')\n",
    "formula.getenvironment()['wt'] = mtcars.rx2('wt')\n",
    "\n",
    "p = lattice.xyplot(formula)\n",
    "rprint(p)"
   ]
  },
  {
   "cell_type": "code",
   "execution_count": 32,
   "metadata": {},
   "outputs": [
    {
     "data": {
      "text/html": [
       "\n",
       "    <span>ListVector with 45 elements.</span>\n",
       "    <table>\n",
       "      <tbody>\n",
       "      \n",
       "      <tr>\n",
       "      <th>\n",
       "        formula\n",
       "      </th>\n",
       "      <td>\n",
       "        mpg ~ wt\n",
       "\n",
       "      </td>\n",
       "      </tr>\n",
       "      \n",
       "      <tr>\n",
       "      <th>\n",
       "        as.table\n",
       "      </th>\n",
       "      <td>\n",
       "        \n",
       "    <span>BoolVector with 1 elements.</span>\n",
       "    <table>\n",
       "      <tbody>\n",
       "      <tr>\n",
       "      \n",
       "      <td>\n",
       "               0\n",
       "      </td>\n",
       "      \n",
       "      </tr>\n",
       "      </tbody>\n",
       "    </table>\n",
       "    \n",
       "      </td>\n",
       "      </tr>\n",
       "      \n",
       "      <tr>\n",
       "      <th>\n",
       "        aspect.fill\n",
       "      </th>\n",
       "      <td>\n",
       "        \n",
       "    <span>BoolVector with 1 elements.</span>\n",
       "    <table>\n",
       "      <tbody>\n",
       "      <tr>\n",
       "      \n",
       "      <td>\n",
       "               1\n",
       "      </td>\n",
       "      \n",
       "      </tr>\n",
       "      </tbody>\n",
       "    </table>\n",
       "    \n",
       "      </td>\n",
       "      </tr>\n",
       "      \n",
       "      <tr>\n",
       "      <th>\n",
       "        ...\n",
       "      </th>\n",
       "      <td>\n",
       "        ...\n",
       "      </td>\n",
       "      </tr>\n",
       "      \n",
       "      <tr>\n",
       "      <th>\n",
       "        aspect.ratio\n",
       "      </th>\n",
       "      <td>\n",
       "        \n",
       "    <span>FloatVector with 1 elements.</span>\n",
       "    <table>\n",
       "      <tbody>\n",
       "      <tr>\n",
       "      \n",
       "      <td>\n",
       "        1.000000\n",
       "      </td>\n",
       "      \n",
       "      </tr>\n",
       "      </tbody>\n",
       "    </table>\n",
       "    \n",
       "      </td>\n",
       "      </tr>\n",
       "      \n",
       "      <tr>\n",
       "      <th>\n",
       "        prepanel.default\n",
       "      </th>\n",
       "      <td>\n",
       "        \n",
       "    <span>StrVector with 1 elements.</span>\n",
       "    <table>\n",
       "      <tbody>\n",
       "      <tr>\n",
       "      \n",
       "      <td>\n",
       "        'prepanel.default.xyplot'\n",
       "      </td>\n",
       "      \n",
       "      </tr>\n",
       "      </tbody>\n",
       "    </table>\n",
       "    \n",
       "      </td>\n",
       "      </tr>\n",
       "      \n",
       "      <tr>\n",
       "      <th>\n",
       "        prepanel\n",
       "      </th>\n",
       "      <td>\n",
       "        NULL\n",
       "      </td>\n",
       "      </tr>\n",
       "      \n",
       "      </tbody>\n",
       "    </table>\n",
       "    "
      ],
      "text/plain": [
       "R object with classes: ('trellis',) mapped to:\n",
       "<ListVector - Python:0x0000003990E800C8 / R:0x0000003990986870>\n",
       "[Formula, BoolVector, BoolVector, RNULLType, ..., RNULLType, FloatVector, StrVector, RNULLType]\n",
       "  formula: <class 'rpy2.robjects.Formula'>\n",
       "  R object with classes: ('formula',) mapped to:\n",
       "<Formula - Python:0x0000003990E80308 / R:0x00000039914D73D8>\n",
       "  as.table: <class 'rpy2.robjects.vectors.BoolVector'>\n",
       "  R object with classes: ('logical',) mapped to:\n",
       "<BoolVector - Python:0x0000003990E80488 / R:0x0000003991166F00>\n",
       "[       0]\n",
       "  aspect.fill: <class 'rpy2.robjects.vectors.BoolVector'>\n",
       "  R object with classes: ('logical',) mapped to:\n",
       "<BoolVector - Python:0x0000003990E802C8 / R:0x00000039938DE380>\n",
       "[       1]\n",
       "  legend: <class 'rpy2.rinterface.RNULLType'>\n",
       "  rpy2.rinterface.NULL\n",
       "...\n",
       "  page: <class 'rpy2.rinterface.RNULLType'>\n",
       "  rpy2.rinterface.NULL\n",
       "  layout: <class 'rpy2.robjects.vectors.FloatVector'>\n",
       "  R object with classes: ('numeric',) mapped to:\n",
       "<FloatVector - Python:0x0000003990E80E48 / R:0x00000039939588E0>\n",
       "[1.000000]\n",
       "  skip: <class 'rpy2.robjects.vectors.StrVector'>\n",
       "  R object with classes: ('character',) mapped to:\n",
       "<StrVector - Python:0x0000003991301A48 / R:0x0000003991170BB0>\n",
       "['prepanel.default.xyplot']\n",
       "  strip: <class 'rpy2.rinterface.RNULLType'>\n",
       "  rpy2.rinterface.NULL"
      ]
     },
     "execution_count": 32,
     "metadata": {},
     "output_type": "execute_result"
    }
   ],
   "source": [
    "p = lattice.xyplot(formula, groups = mtcars.rx2('cyl'))\n",
    "rprint(p)"
   ]
  },
  {
   "cell_type": "code",
   "execution_count": 33,
   "metadata": {},
   "outputs": [
    {
     "data": {
      "text/html": [
       "\n",
       "    <span>ListVector with 45 elements.</span>\n",
       "    <table>\n",
       "      <tbody>\n",
       "      \n",
       "      <tr>\n",
       "      <th>\n",
       "        formula\n",
       "      </th>\n",
       "      <td>\n",
       "        mpg ~ factor(cyl) | gear\n",
       "\n",
       "      </td>\n",
       "      </tr>\n",
       "      \n",
       "      <tr>\n",
       "      <th>\n",
       "        as.table\n",
       "      </th>\n",
       "      <td>\n",
       "        \n",
       "    <span>BoolVector with 1 elements.</span>\n",
       "    <table>\n",
       "      <tbody>\n",
       "      <tr>\n",
       "      \n",
       "      <td>\n",
       "               0\n",
       "      </td>\n",
       "      \n",
       "      </tr>\n",
       "      </tbody>\n",
       "    </table>\n",
       "    \n",
       "      </td>\n",
       "      </tr>\n",
       "      \n",
       "      <tr>\n",
       "      <th>\n",
       "        aspect.fill\n",
       "      </th>\n",
       "      <td>\n",
       "        \n",
       "    <span>BoolVector with 1 elements.</span>\n",
       "    <table>\n",
       "      <tbody>\n",
       "      <tr>\n",
       "      \n",
       "      <td>\n",
       "               1\n",
       "      </td>\n",
       "      \n",
       "      </tr>\n",
       "      </tbody>\n",
       "    </table>\n",
       "    \n",
       "      </td>\n",
       "      </tr>\n",
       "      \n",
       "      <tr>\n",
       "      <th>\n",
       "        ...\n",
       "      </th>\n",
       "      <td>\n",
       "        ...\n",
       "      </td>\n",
       "      </tr>\n",
       "      \n",
       "      <tr>\n",
       "      <th>\n",
       "        aspect.ratio\n",
       "      </th>\n",
       "      <td>\n",
       "        \n",
       "    <span>FloatVector with 1 elements.</span>\n",
       "    <table>\n",
       "      <tbody>\n",
       "      <tr>\n",
       "      \n",
       "      <td>\n",
       "        1.000000\n",
       "      </td>\n",
       "      \n",
       "      </tr>\n",
       "      </tbody>\n",
       "    </table>\n",
       "    \n",
       "      </td>\n",
       "      </tr>\n",
       "      \n",
       "      <tr>\n",
       "      <th>\n",
       "        prepanel.default\n",
       "      </th>\n",
       "      <td>\n",
       "        \n",
       "    <span>StrVector with 1 elements.</span>\n",
       "    <table>\n",
       "      <tbody>\n",
       "      <tr>\n",
       "      \n",
       "      <td>\n",
       "        'prepanel.default.bwplot'\n",
       "      </td>\n",
       "      \n",
       "      </tr>\n",
       "      </tbody>\n",
       "    </table>\n",
       "    \n",
       "      </td>\n",
       "      </tr>\n",
       "      \n",
       "      <tr>\n",
       "      <th>\n",
       "        prepanel\n",
       "      </th>\n",
       "      <td>\n",
       "        NULL\n",
       "      </td>\n",
       "      </tr>\n",
       "      \n",
       "      </tbody>\n",
       "    </table>\n",
       "    "
      ],
      "text/plain": [
       "R object with classes: ('trellis',) mapped to:\n",
       "<ListVector - Python:0x000000398B3A7BC8 / R:0x000000399040A100>\n",
       "[Formula, BoolVector, BoolVector, RNULLType, ..., RNULLType, FloatVector, StrVector, RNULLType]\n",
       "  formula: <class 'rpy2.robjects.Formula'>\n",
       "  R object with classes: ('formula',) mapped to:\n",
       "<Formula - Python:0x000000398783C148 / R:0x00000039915F8650>\n",
       "  as.table: <class 'rpy2.robjects.vectors.BoolVector'>\n",
       "  R object with classes: ('logical',) mapped to:\n",
       "<BoolVector - Python:0x00000039911D7B08 / R:0x0000003991166F00>\n",
       "[       0]\n",
       "  aspect.fill: <class 'rpy2.robjects.vectors.BoolVector'>\n",
       "  R object with classes: ('logical',) mapped to:\n",
       "<BoolVector - Python:0x000000398DB7D3C8 / R:0x00000039908AFD68>\n",
       "[       1]\n",
       "  legend: <class 'rpy2.rinterface.RNULLType'>\n",
       "  rpy2.rinterface.NULL\n",
       "...\n",
       "  page: <class 'rpy2.rinterface.RNULLType'>\n",
       "  rpy2.rinterface.NULL\n",
       "  layout: <class 'rpy2.robjects.vectors.FloatVector'>\n",
       "  R object with classes: ('numeric',) mapped to:\n",
       "<FloatVector - Python:0x0000003990923248 / R:0x00000039939588E0>\n",
       "[1.000000]\n",
       "  skip: <class 'rpy2.robjects.vectors.StrVector'>\n",
       "  R object with classes: ('character',) mapped to:\n",
       "<StrVector - Python:0x000000399090D848 / R:0x0000003991170D60>\n",
       "['prepanel.default.bwplot']\n",
       "  strip: <class 'rpy2.rinterface.RNULLType'>\n",
       "  rpy2.rinterface.NULL"
      ]
     },
     "execution_count": 33,
     "metadata": {},
     "output_type": "execute_result"
    }
   ],
   "source": [
    "p = lattice.bwplot(Formula('mpg ~ factor(cyl) | gear'),\n",
    "                   data = mtcars, fill = 'grey')\n",
    "rprint(p, nrow=1)"
   ]
  },
  {
   "cell_type": "code",
   "execution_count": 34,
   "metadata": {},
   "outputs": [
    {
     "data": {
      "text/html": [
       "\n",
       "    <span>ListVector with 44 elements.</span>\n",
       "    <table>\n",
       "      <tbody>\n",
       "      \n",
       "      <tr>\n",
       "      <th>\n",
       "        formula\n",
       "      </th>\n",
       "      <td>\n",
       "        z ~ row * column\n",
       "\r\n",
       "<environment: 0x00000039937c2700>\n",
       "\n",
       "      </td>\n",
       "      </tr>\n",
       "      \n",
       "      <tr>\n",
       "      <th>\n",
       "        as.table\n",
       "      </th>\n",
       "      <td>\n",
       "        \n",
       "    <span>BoolVector with 1 elements.</span>\n",
       "    <table>\n",
       "      <tbody>\n",
       "      <tr>\n",
       "      \n",
       "      <td>\n",
       "               0\n",
       "      </td>\n",
       "      \n",
       "      </tr>\n",
       "      </tbody>\n",
       "    </table>\n",
       "    \n",
       "      </td>\n",
       "      </tr>\n",
       "      \n",
       "      <tr>\n",
       "      <th>\n",
       "        aspect.fill\n",
       "      </th>\n",
       "      <td>\n",
       "        \n",
       "    <span>BoolVector with 1 elements.</span>\n",
       "    <table>\n",
       "      <tbody>\n",
       "      <tr>\n",
       "      \n",
       "      <td>\n",
       "               0\n",
       "      </td>\n",
       "      \n",
       "      </tr>\n",
       "      </tbody>\n",
       "    </table>\n",
       "    \n",
       "      </td>\n",
       "      </tr>\n",
       "      \n",
       "      <tr>\n",
       "      <th>\n",
       "        ...\n",
       "      </th>\n",
       "      <td>\n",
       "        ...\n",
       "      </td>\n",
       "      </tr>\n",
       "      \n",
       "      <tr>\n",
       "      <th>\n",
       "        aspect.ratio\n",
       "      </th>\n",
       "      <td>\n",
       "        \n",
       "    <span>FloatVector with 1 elements.</span>\n",
       "    <table>\n",
       "      <tbody>\n",
       "      <tr>\n",
       "      \n",
       "      <td>\n",
       "        1.000000\n",
       "      </td>\n",
       "      \n",
       "      </tr>\n",
       "      </tbody>\n",
       "    </table>\n",
       "    \n",
       "      </td>\n",
       "      </tr>\n",
       "      \n",
       "      <tr>\n",
       "      <th>\n",
       "        prepanel.default\n",
       "      </th>\n",
       "      <td>\n",
       "        \n",
       "    <span>StrVector with 1 elements.</span>\n",
       "    <table>\n",
       "      <tbody>\n",
       "      <tr>\n",
       "      \n",
       "      <td>\n",
       "        'prepanel.default.cloud'\n",
       "      </td>\n",
       "      \n",
       "      </tr>\n",
       "      </tbody>\n",
       "    </table>\n",
       "    \n",
       "      </td>\n",
       "      </tr>\n",
       "      \n",
       "      <tr>\n",
       "      <th>\n",
       "        prepanel\n",
       "      </th>\n",
       "      <td>\n",
       "        NULL\n",
       "      </td>\n",
       "      </tr>\n",
       "      \n",
       "      </tbody>\n",
       "    </table>\n",
       "    "
      ],
      "text/plain": [
       "R object with classes: ('trellis',) mapped to:\n",
       "<ListVector - Python:0x00000039911D7A88 / R:0x00000039906153A8>\n",
       "[Formula, BoolVector, BoolVector, StrVector, ..., RNULLType, FloatVector, StrVector, RNULLType]\n",
       "  formula: <class 'rpy2.robjects.Formula'>\n",
       "  R object with classes: ('formula',) mapped to:\n",
       "<Formula - Python:0x000000398E509D88 / R:0x00000039937C5550>\n",
       "  as.table: <class 'rpy2.robjects.vectors.BoolVector'>\n",
       "  R object with classes: ('logical',) mapped to:\n",
       "<BoolVector - Python:0x000000398E509BC8 / R:0x0000003991166F00>\n",
       "[       0]\n",
       "  aspect.fill: <class 'rpy2.robjects.vectors.BoolVector'>\n",
       "  R object with classes: ('logical',) mapped to:\n",
       "<BoolVector - Python:0x000000398DA47308 / R:0x0000003993DD3668>\n",
       "[       0]\n",
       "  panel: <class 'rpy2.robjects.vectors.StrVector'>\n",
       "  R object with classes: ('character',) mapped to:\n",
       "<StrVector - Python:0x000000398DA47608 / R:0x0000003991166B70>\n",
       "['panel.wireframe']\n",
       "...\n",
       "  layout: <class 'rpy2.rinterface.RNULLType'>\n",
       "  rpy2.rinterface.NULL\n",
       "  skip: <class 'rpy2.robjects.vectors.FloatVector'>\n",
       "  R object with classes: ('numeric',) mapped to:\n",
       "<FloatVector - Python:0x000000398B9CB5C8 / R:0x0000003990E34520>\n",
       "[1.000000]\n",
       "  strip: <class 'rpy2.robjects.vectors.StrVector'>\n",
       "  R object with classes: ('character',) mapped to:\n",
       "<StrVector - Python:0x000000398DA3E448 / R:0x0000003991170B20>\n",
       "['prepanel.default.cloud']\n",
       "  strip.left: <class 'rpy2.rinterface.RNULLType'>\n",
       "  rpy2.rinterface.NULL"
      ]
     },
     "execution_count": 34,
     "metadata": {},
     "output_type": "execute_result"
    }
   ],
   "source": [
    "tmpenv = data(datasets).fetch(\"volcano\")\n",
    "volcano = tmpenv[\"volcano\"]\n",
    "\n",
    "p = lattice.wireframe(volcano, shade = True,\n",
    "                      zlab = \"\",\n",
    "                      aspect = FloatVector((61.0/87, 0.4)),\n",
    "                      light_source = IntVector((10,0,10)))\n",
    "rprint(p)"
   ]
  },
  {
   "cell_type": "code",
   "execution_count": 35,
   "metadata": {},
   "outputs": [
    {
     "data": {
      "text/html": [
       "\n",
       "    <span>ListVector with 44 elements.</span>\n",
       "    <table>\n",
       "      <tbody>\n",
       "      \n",
       "      <tr>\n",
       "      <th>\n",
       "        formula\n",
       "      </th>\n",
       "      <td>\n",
       "        value ~ Var1 * Var2 | ct\n",
       "\n",
       "      </td>\n",
       "      </tr>\n",
       "      \n",
       "      <tr>\n",
       "      <th>\n",
       "        as.table\n",
       "      </th>\n",
       "      <td>\n",
       "        \n",
       "    <span>BoolVector with 1 elements.</span>\n",
       "    <table>\n",
       "      <tbody>\n",
       "      <tr>\n",
       "      \n",
       "      <td>\n",
       "               0\n",
       "      </td>\n",
       "      \n",
       "      </tr>\n",
       "      </tbody>\n",
       "    </table>\n",
       "    \n",
       "      </td>\n",
       "      </tr>\n",
       "      \n",
       "      <tr>\n",
       "      <th>\n",
       "        aspect.fill\n",
       "      </th>\n",
       "      <td>\n",
       "        \n",
       "    <span>BoolVector with 1 elements.</span>\n",
       "    <table>\n",
       "      <tbody>\n",
       "      <tr>\n",
       "      \n",
       "      <td>\n",
       "               0\n",
       "      </td>\n",
       "      \n",
       "      </tr>\n",
       "      </tbody>\n",
       "    </table>\n",
       "    \n",
       "      </td>\n",
       "      </tr>\n",
       "      \n",
       "      <tr>\n",
       "      <th>\n",
       "        ...\n",
       "      </th>\n",
       "      <td>\n",
       "        ...\n",
       "      </td>\n",
       "      </tr>\n",
       "      \n",
       "      <tr>\n",
       "      <th>\n",
       "        aspect.ratio\n",
       "      </th>\n",
       "      <td>\n",
       "        \n",
       "    <span>FloatVector with 1 elements.</span>\n",
       "    <table>\n",
       "      <tbody>\n",
       "      <tr>\n",
       "      \n",
       "      <td>\n",
       "        1.000000\n",
       "      </td>\n",
       "      \n",
       "      </tr>\n",
       "      </tbody>\n",
       "    </table>\n",
       "    \n",
       "      </td>\n",
       "      </tr>\n",
       "      \n",
       "      <tr>\n",
       "      <th>\n",
       "        prepanel.default\n",
       "      </th>\n",
       "      <td>\n",
       "        \n",
       "    <span>StrVector with 1 elements.</span>\n",
       "    <table>\n",
       "      <tbody>\n",
       "      <tr>\n",
       "      \n",
       "      <td>\n",
       "        'prepanel.default.cloud'\n",
       "      </td>\n",
       "      \n",
       "      </tr>\n",
       "      </tbody>\n",
       "    </table>\n",
       "    \n",
       "      </td>\n",
       "      </tr>\n",
       "      \n",
       "      <tr>\n",
       "      <th>\n",
       "        prepanel\n",
       "      </th>\n",
       "      <td>\n",
       "        NULL\n",
       "      </td>\n",
       "      </tr>\n",
       "      \n",
       "      </tbody>\n",
       "    </table>\n",
       "    "
      ],
      "text/plain": [
       "R object with classes: ('trellis',) mapped to:\n",
       "<ListVector - Python:0x000000398EC3DB08 / R:0x000000399060B038>\n",
       "[Formula, BoolVector, BoolVector, StrVector, ..., RNULLType, FloatVector, StrVector, RNULLType]\n",
       "  formula: <class 'rpy2.robjects.Formula'>\n",
       "  R object with classes: ('formula',) mapped to:\n",
       "<Formula - Python:0x000000398EC3D3C8 / R:0x0000003990D42CD8>\n",
       "  as.table: <class 'rpy2.robjects.vectors.BoolVector'>\n",
       "  R object with classes: ('logical',) mapped to:\n",
       "<BoolVector - Python:0x000000399339FAC8 / R:0x0000003991166F00>\n",
       "[       0]\n",
       "  aspect.fill: <class 'rpy2.robjects.vectors.BoolVector'>\n",
       "  R object with classes: ('logical',) mapped to:\n",
       "<BoolVector - Python:0x0000003990E84148 / R:0x0000003990278070>\n",
       "[       0]\n",
       "  panel: <class 'rpy2.robjects.vectors.StrVector'>\n",
       "  R object with classes: ('character',) mapped to:\n",
       "<StrVector - Python:0x0000003990E84D88 / R:0x0000003991166B70>\n",
       "['panel.wireframe']\n",
       "...\n",
       "  layout: <class 'rpy2.rinterface.RNULLType'>\n",
       "  rpy2.rinterface.NULL\n",
       "  skip: <class 'rpy2.robjects.vectors.FloatVector'>\n",
       "  R object with classes: ('numeric',) mapped to:\n",
       "<FloatVector - Python:0x0000003990E84FC8 / R:0x0000003990E34520>\n",
       "[1.000000]\n",
       "  strip: <class 'rpy2.robjects.vectors.StrVector'>\n",
       "  R object with classes: ('character',) mapped to:\n",
       "<StrVector - Python:0x0000003990E84C08 / R:0x0000003991170B20>\n",
       "['prepanel.default.cloud']\n",
       "  strip.left: <class 'rpy2.rinterface.RNULLType'>\n",
       "  rpy2.rinterface.NULL"
      ]
     },
     "execution_count": 35,
     "metadata": {},
     "output_type": "execute_result"
    }
   ],
   "source": [
    "reshape2 = importr('reshape2')\n",
    "dataf = reshape2.melt(volcano)\n",
    "dataf = dataf.cbind(ct = lattice.equal_count(dataf.rx2(\"value\"), number=3, overlap=1/4))\n",
    "p = lattice.wireframe(Formula('value ~ Var1 * Var2 | ct'), \n",
    "                      data = dataf, shade = True,\n",
    "                      aspect = FloatVector((61.0/87, 0.4)),\n",
    "                      light_source = IntVector((10,0,10)))\n",
    "rprint(p, nrow = 1)"
   ]
  },
  {
   "cell_type": "markdown",
   "metadata": {},
   "source": [
    "### Inline graphics in IPython"
   ]
  },
  {
   "cell_type": "code",
   "execution_count": 36,
   "metadata": {},
   "outputs": [],
   "source": [
    "from IPython.display import display, Image\n",
    "from rpy2.robjects.vectors import IntVector\n",
    "from rpy2.robjects.lib import grdevices as gr_devices\n",
    "from rpy2.robjects.packages import importr\n",
    "\n",
    "class rgraphics_produce(object):\n",
    "    def __init__(self, width=1024, height=960, scale=1, res=150, fmt='png'):\n",
    "        width = int(width * scale)\n",
    "        height = int(height * scale)\n",
    "        grdev_fmt = getattr(gr_devices, fmt)\n",
    "        self.grdev_ctx = gr_devices.render_to_bytesio(grdev_fmt, width=width, height=height, res=res)\n",
    "        self.fmt = fmt\n",
    "    def __enter__(self):\n",
    "        img = self.grdev_ctx.__enter__()\n",
    "        img._fmt = self.fmt\n",
    "        return img\n",
    "    def __exit__(self, exc1, exc2, exc3):\n",
    "        self.grdev_ctx.__exit__(None, None, None)\n",
    "\n",
    "def rgraphics_display(img):\n",
    "    return Image(data=img.getvalue(), format=img._fmt, embed=True)\n",
    "\n",
    "def rgraphics_plot(obj, *args, **kwargs):\n",
    "    with rgraphics_produce(*args, **kwargs) as img:\n",
    "        obj.plot()\n",
    "    return rgraphics_display(img)"
   ]
  },
  {
   "cell_type": "code",
   "execution_count": 37,
   "metadata": {},
   "outputs": [
    {
     "data": {
      "image/png": "[encoded data removed]",
      "text/plain": [
       "<IPython.core.display.Image object>"
      ]
     },
     "execution_count": 37,
     "metadata": {},
     "output_type": "execute_result"
    }
   ],
   "source": [
    "graphics = importr(\"graphics\")\n",
    "with rgraphics_produce(640, 480, fmt='png') as img:\n",
    "    graphics.barplot(IntVector((1,3,2,5,4)), ylab=\"Value\")\n",
    "rgraphics_display(img)"
   ]
  },
  {
   "cell_type": "markdown",
   "metadata": {},
   "source": [
    "## ggplot2"
   ]
  },
  {
   "cell_type": "code",
   "execution_count": 38,
   "metadata": {},
   "outputs": [],
   "source": [
    "import math, datetime\n",
    "import rpy2.robjects.lib.ggplot2 as ggplot2\n",
    "import rpy2.robjects as robjects\n",
    "import rpy2.robjects as ro\n",
    "from rpy2.robjects.packages import importr\n",
    "base = importr('base')\n",
    "\n",
    "mtcars = data(datasets).fetch('mtcars')['mtcars']\n",
    "\n",
    "rnorm = stats.rnorm\n",
    "dataf_rnorm = robjects.DataFrame({'value': rnorm(300, mean=0) + rnorm(100, mean=3),\n",
    "                                  'other_value': rnorm(300, mean=0) + rnorm(100, mean=3),\n",
    "                                  'mean': IntVector([0, ]*300 + [3, ] * 100)})"
   ]
  },
  {
   "cell_type": "code",
   "execution_count": 39,
   "metadata": {},
   "outputs": [],
   "source": [
    "r.X11()\n",
    "grid.activate()"
   ]
  },
  {
   "cell_type": "code",
   "execution_count": 40,
   "metadata": {},
   "outputs": [],
   "source": [
    "gp = ggplot2.ggplot(mtcars)\n",
    "\n",
    "pp = gp + \\\n",
    "     ggplot2.aes_string(x='wt', y='mpg') + \\\n",
    "     ggplot2.geom_point()\n",
    "\n",
    "pp.plot()"
   ]
  },
  {
   "cell_type": "code",
   "execution_count": 41,
   "metadata": {},
   "outputs": [
    {
     "data": {
      "image/png": "[encoded data removed]",
      "text/plain": [
       "<IPython.core.display.Image object>"
      ]
     },
     "execution_count": 41,
     "metadata": {},
     "output_type": "execute_result"
    }
   ],
   "source": [
    "rgraphics_plot(pp, 400, 300)"
   ]
  },
  {
   "cell_type": "code",
   "execution_count": 42,
   "metadata": {},
   "outputs": [],
   "source": [
    "gp = ggplot2.ggplot(mtcars)\n",
    "\n",
    "pp = gp + \\\n",
    "     ggplot2.aes_string(x='wt', y='mpg', col='factor(cyl)') + \\\n",
    "     ggplot2.geom_point()\n",
    "\n",
    "pp.plot()"
   ]
  },
  {
   "cell_type": "code",
   "execution_count": 43,
   "metadata": {},
   "outputs": [
    {
     "data": {
      "image/png": "[encoded data removed]",
      "text/plain": [
       "<IPython.core.display.Image object>"
      ]
     },
     "execution_count": 43,
     "metadata": {},
     "output_type": "execute_result"
    }
   ],
   "source": [
    "rgraphics_plot(pp, 400, 300)"
   ]
  },
  {
   "cell_type": "code",
   "execution_count": 44,
   "metadata": {},
   "outputs": [
    {
     "data": {
      "image/png": "[encoded data removed]",
      "text/plain": [
       "<IPython.core.display.Image object>"
      ]
     },
     "execution_count": 44,
     "metadata": {},
     "output_type": "execute_result"
    }
   ],
   "source": [
    "gp = ggplot2.ggplot(mtcars)\n",
    "pp = gp + \\\n",
    "     ggplot2.aes_string(x='wt') + \\\n",
    "     ggplot2.geom_histogram()\n",
    "rgraphics_close()\n",
    "rgraphics_plot(pp, 400,300)"
   ]
  },
  {
   "cell_type": "code",
   "execution_count": 45,
   "metadata": {},
   "outputs": [
    {
     "data": {
      "image/png": "[encoded data removed]",
      "text/plain": [
       "<IPython.core.display.Image object>"
      ]
     },
     "execution_count": 45,
     "metadata": {},
     "output_type": "execute_result"
    }
   ],
   "source": [
    "gp = ggplot2.ggplot(mtcars)\n",
    "pp = gp + \\\n",
    "     ggplot2.aes_string(x='factor(cyl)', y='mpg') + \\\n",
    "     ggplot2.geom_boxplot()\n",
    "rgraphics_plot(pp, 400,300)"
   ]
  },
  {
   "cell_type": "code",
   "execution_count": 46,
   "metadata": {},
   "outputs": [
    {
     "data": {
      "image/png": "[encoded data removed]",
      "text/plain": [
       "<IPython.core.display.Image object>"
      ]
     },
     "execution_count": 46,
     "metadata": {},
     "output_type": "execute_result"
    }
   ],
   "source": [
    "gp = ggplot2.ggplot(dataf_rnorm)\n",
    "pp = gp + \\\n",
    "     ggplot2.aes_string(x='value', y='other_value') + \\\n",
    "     ggplot2.geom_point(alpha = 0.3) + \\\n",
    "     ggplot2.geom_density2d(ggplot2.aes_string(col = '..level..')) + \\\n",
    "     ggplot2.ggtitle('point + density')\n",
    "rgraphics_plot(pp, 500,400)"
   ]
  },
  {
   "cell_type": "code",
   "execution_count": 47,
   "metadata": {},
   "outputs": [
    {
     "data": {
      "image/png": "[encoded data removed]",
      "text/plain": [
       "<IPython.core.display.Image object>"
      ]
     },
     "execution_count": 47,
     "metadata": {},
     "output_type": "execute_result"
    }
   ],
   "source": [
    "map = importr('maps')\n",
    "fr = ggplot2.map_data('france')\n",
    "# add a column indicating which region names have an \"o\".\n",
    "fr = fr.cbind(fr, has_o = base.grepl('o', fr.rx2(\"region\"),\n",
    "                                     ignore_case = True))\n",
    "p = ggplot2.ggplot(fr) + \\\n",
    "    ggplot2.geom_polygon(ggplot2.aes_string(x = 'long', y = 'lat',\n",
    "                                            group = 'group', fill = 'has_o'),\n",
    "                         col=\"black\")\n",
    "rgraphics_plot(p, 500,320)"
   ]
  },
  {
   "cell_type": "code",
   "execution_count": 48,
   "metadata": {},
   "outputs": [
    {
     "data": {
      "image/png": "[encoded data removed]",
      "text/plain": [
       "<IPython.core.display.Image object>"
      ]
     },
     "execution_count": 48,
     "metadata": {},
     "output_type": "execute_result"
    }
   ],
   "source": [
    "#diamonds = ggplot2.ggplot2.__rdata__.fetch('diamonds')['diamonds']\n",
    "gp = ggplot2.ggplot(mtcars)\n",
    "pp = gp + \\\n",
    "     ggplot2.aes_string(x='wt', y='mpg') + \\\n",
    "     ggplot2.geom_point() + \\\n",
    "     ggplot2.facet_grid(ro.Formula('. ~ cyl')) + \\\n",
    "     ggplot2.geom_smooth(ggplot2.aes_string(group=\"cyl\"),\n",
    "                         method = \"lm\",\n",
    "                            data = mtcars)\n",
    "rgraphics_plot(pp, 500,320)"
   ]
  },
  {
   "cell_type": "code",
   "execution_count": 49,
   "metadata": {},
   "outputs": [],
   "source": [
    "rgraphics_close()"
   ]
  }
 ],
 "metadata": {
  "kernelspec": {
   "display_name": "Python [conda env:py36]",
   "language": "python",
   "name": "conda-env-py36-py"
  },
  "language_info": {
   "codemirror_mode": {
    "name": "ipython",
    "version": 3
   },
   "file_extension": ".py",
   "mimetype": "text/x-python",
   "name": "python",
   "nbconvert_exporter": "python",
   "pygments_lexer": "ipython3",
   "version": "3.6.3"
  }
 },
 "nbformat": 4,
 "nbformat_minor": 2
}
