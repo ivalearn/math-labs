{
 "cells": [
  {
   "cell_type": "markdown",
   "metadata": {},
   "source": [
    "# 2.252 Derivative of the polynomial\n",
    "\n",
    "*https://stepik.org/lesson/28258/step/1?adaptive=true*\n",
    "\n",
    "The problem is simple – find the derivative of the polynomial.\n",
    "The polynomial can be large, but only with\n",
    "non-negative integral powers and integer coefficients.\n",
    "Think about how it is better to represent it in the memory?\n",
    "The output should contain no spaces and be in the descending order of powers,\n",
    "although the input may not comply with this rule.\n",
    "Additionally, the input may contain a polynomial with unreduced terms."
   ]
  },
  {
   "cell_type": "code",
   "execution_count": 285,
   "metadata": {},
   "outputs": [
    {
     "name": "stdout",
     "output_type": "stream",
     "text": [
      "x^2+x -> 2*x+1\n",
      "2*x^100+100*x^2 -> 200*x^99+200*x\n",
      "x^10000+x+1 -> 10000*x^9999+1\n",
      "-x^2-x^3 -> -3*x^2-2*x\n",
      "x+x+x+x+x+x+x+x+x+x -> 10\n"
     ]
    }
   ],
   "source": [
    "from re import sub\n",
    "from collections import defaultdict\n",
    "\n",
    "def polynomial_derivative(inp):\n",
    "    dic = defaultdict(int)\n",
    "    for t in inp.replace('-', '+-').lstrip('+').split('+'):\n",
    "        t = sub('^(-?)x', r'\\g<1>1*x', sub('x$', 'x^1', sub(r'^(-?\\d+)$', r'\\1*x^0', t)))\n",
    "        c, p = map(int, t.split('*x^'))\n",
    "        dic[p-1] += c*p\n",
    "    lst = [sub(r'\\*x\\^1$', '*x', sub(r'\\*x\\^0$', '', '%d*x^%d' % (c,p)))\n",
    "           for p, c in sorted(dic.items(), reverse=True) if c]\n",
    "    return '+'.join(lst).replace('+-', '-') or '0'\n",
    "\n",
    "test = {\n",
    "    'x^2+x': '2*x+1',\n",
    "    '2*x^100+100*x^2': '200*x^99+200*x',\n",
    "    'x^10000+x+1': '10000*x^9999+1',\n",
    "    '-x^2-x^3': '-3*x^2-2*x',\n",
    "    'x+x+x+x+x+x+x+x+x+x': '10',\n",
    "}\n",
    "for inp, out in test.items():\n",
    "    print(inp, '->', polynomial_derivative(inp))\n",
    "    assert polynomial_derivative(inp) == out"
   ]
  },
  {
   "cell_type": "markdown",
   "metadata": {},
   "source": [
    "# 2.168 List of prime numbers\n",
    "\n",
    "*https://stepik.org/lesson/28173/step/1?adaptive=true*\n",
    "\n",
    "Let's create a list (or array) of prime numbers in ascending order:\n",
    "\n",
    "    [2, 3, 5, 7, 11, 13, 17, 19, 23, 29, ...]\n",
    "\n",
    "And then let's output the ones that correspond to the indices,\n",
    "specified in the input data.\n",
    "\n",
    "Input data in the first line specifies the number of prime numbers to be output.\n",
    "The second line contains the indices of interest to us in the array of prime numbers.\n",
    "They will be in the range from 1 to 200000.\n",
    "\n",
    "The output should contain the prime numbers,\n",
    "corresponding to the specified positions in the array of all primes.\n",
    "\n",
    "Please note: in this problem indices of the array start from 1 and not from 0,\n",
    "so it will be easier to compare with primes lists from the internet.\n",
    "\n",
    "Sample Input:\n",
    "\n",
    "    4\n",
    "    1 3 5 8\n",
    "\n",
    "Sample Output:\n",
    "\n",
    "    2 5 11 19"
   ]
  },
  {
   "cell_type": "markdown",
   "metadata": {},
   "source": [
    "### Метод \"в лоб\""
   ]
  },
  {
   "cell_type": "code",
   "execution_count": 286,
   "metadata": {},
   "outputs": [],
   "source": [
    "from itertools import islice, count\n",
    "\n",
    "def prime_gen():\n",
    "    yield 1; yield 2; yield 3; yield 5\n",
    "    for n in count(7,2):\n",
    "        if n%3 and n%5:\n",
    "            for d in range(7, int(n**.5)+1):\n",
    "                if not n%d:  break\n",
    "            else:\n",
    "                yield n"
   ]
  },
  {
   "cell_type": "code",
   "execution_count": 287,
   "metadata": {},
   "outputs": [
    {
     "name": "stdout",
     "output_type": "stream",
     "text": [
      "2 5 11 19\n"
     ]
    }
   ],
   "source": [
    "ind = [1,3,5,8]\n",
    "pri = list(islice(prime_gen(), max(ind)+1))\n",
    "print(*(pri[i] for i in ind))"
   ]
  },
  {
   "cell_type": "code",
   "execution_count": 288,
   "metadata": {},
   "outputs": [
    {
     "name": "stdout",
     "output_type": "stream",
     "text": [
      "2750159\n",
      "28.9 s ± 0 ns per loop (mean ± std. dev. of 1 run, 1 loop each)\n"
     ]
    }
   ],
   "source": [
    "%timeit -r1 -n1 print(list(islice(prime_gen(), 200000+1))[200000])"
   ]
  },
  {
   "cell_type": "code",
   "execution_count": 289,
   "metadata": {},
   "outputs": [
    {
     "name": "stdout",
     "output_type": "stream",
     "text": [
      "4\n",
      "1 3 5 8\n",
      "2 5 11 19\n"
     ]
    }
   ],
   "source": [
    "cnt = int(input())\n",
    "ind = list(map(int, input().split()))[:cnt]\n",
    "pri = list(islice(prime_gen(), max(ind)+1))\n",
    "print(*(pri[i] for i in ind))"
   ]
  },
  {
   "cell_type": "markdown",
   "metadata": {},
   "source": [
    "### Решето Эратосфена с ограничением сверху"
   ]
  },
  {
   "cell_type": "code",
   "execution_count": 290,
   "metadata": {},
   "outputs": [],
   "source": [
    "PRIME_200K = 2750159\n",
    "\n",
    "def prime_sieve(end=PRIME_200K):\n",
    "    \"Erathosthenes sieve\"\n",
    "    end += 1\n",
    "    sieve = set(range(1, end))\n",
    "    for p in range(2, int(end**.5)):\n",
    "        for i in range(p*p, end, p):\n",
    "            if i in sieve:\n",
    "                sieve.remove(i)\n",
    "    return sorted(sieve)"
   ]
  },
  {
   "cell_type": "code",
   "execution_count": 291,
   "metadata": {},
   "outputs": [
    {
     "name": "stdout",
     "output_type": "stream",
     "text": [
      "2 5 11 19\n"
     ]
    }
   ],
   "source": [
    "ind = [1,3,5,8]\n",
    "pri = prime_sieve()\n",
    "print(*(pri[i] for i in ind))"
   ]
  },
  {
   "cell_type": "code",
   "execution_count": 292,
   "metadata": {},
   "outputs": [
    {
     "name": "stdout",
     "output_type": "stream",
     "text": [
      "2750159\n",
      "6.1 s ± 0 ns per loop (mean ± std. dev. of 1 run, 1 loop each)\n"
     ]
    }
   ],
   "source": [
    "%timeit -r1 -n1 print(prime_sieve()[200000])"
   ]
  },
  {
   "cell_type": "code",
   "execution_count": 293,
   "metadata": {},
   "outputs": [
    {
     "name": "stdout",
     "output_type": "stream",
     "text": [
      "4\n",
      "1 3 5 8\n",
      "2 5 11 19\n"
     ]
    }
   ],
   "source": [
    "cnt = int(input())\n",
    "ind = list(map(int, input().split()))[:cnt]\n",
    "end = 2750159 + 1  # 200000th prime number\n",
    "pri = set(range(1, end))\n",
    "for p in range(2, int(end**.5)):\n",
    "    for i in range(p*p, end, p):\n",
    "        if i in pri:\n",
    "            pri.remove(i)\n",
    "pri = sorted(pri)\n",
    "print(*(pri[i] for i in ind))"
   ]
  },
  {
   "cell_type": "markdown",
   "metadata": {},
   "source": [
    "### Комбинированный вариант\n",
    "\n",
    "Сложность кода повышена в угоду оптимизации. Если у программы запрашивают простые числа в небольшом количестве (меньше 50к), то используется прямолино написанный генератор, который просто проверяет очередного кандидата на делимость. При этом затрачивается минимум оперативки, а общее время выполнения сокращается за счёт того, что генерируется мало чисел. Если же запрашивают простые числа в большом диапазоне, то применяется более оптимальное по времени выполнения (но не по памяти) решето Эратосфена с максимумом, равным 200-тысячному простому числу (из условия задачи)."
   ]
  },
  {
   "cell_type": "code",
   "execution_count": 294,
   "metadata": {},
   "outputs": [
    {
     "name": "stdout",
     "output_type": "stream",
     "text": [
      "4\n",
      "1 3 5 8\n",
      "2 5 11 19\n"
     ]
    }
   ],
   "source": [
    "# combined solution\n",
    "from itertools import islice, count\n",
    "PRIME_200K = 2750159\n",
    "THRESHOLD = 50000\n",
    "\n",
    "cnt = int(input())\n",
    "ind = list(map(int, input().split()))[:cnt]\n",
    "end = max(ind)\n",
    "\n",
    "if end > THRESHOLD:\n",
    "    # use Erathosthene`s sieve for large lists of primes\n",
    "    end = PRIME_200K + 1  # 200000th prime number\n",
    "    sieve = set(range(1, end))\n",
    "    for p in range(2, int(end**.5)):\n",
    "        for i in range(p*p, end, p):\n",
    "            if i in sieve:\n",
    "                sieve.remove(i)\n",
    "    pri = sorted(sieve)\n",
    "else:\n",
    "    # simple`n`dirty generator for smaller lists of primes\n",
    "    def prime_gen():\n",
    "        yield 1; yield 2; yield 3; yield 5\n",
    "        for n in count(7,2):\n",
    "            if n%3 and n%5:\n",
    "                for d in range(7, int(n**.5)+1):\n",
    "                    if not n%d:  break\n",
    "                else:\n",
    "                    yield n\n",
    "    pri = list(islice(prime_gen(), end+1))\n",
    "\n",
    "print(*(pri[i] for i in ind))"
   ]
  },
  {
   "cell_type": "markdown",
   "metadata": {},
   "source": [
    "### Бесконечный генератор на основе решета Эрастофена"
   ]
  },
  {
   "cell_type": "code",
   "execution_count": 318,
   "metadata": {},
   "outputs": [],
   "source": [
    "from itertools import islice, count\n",
    "\n",
    "def prime_sieve_gen():\n",
    "    yield 1\n",
    "    s = {}\n",
    "    for q in count(2):\n",
    "        p = s.pop(q, None)\n",
    "        if p is None:\n",
    "            yield q\n",
    "            s[q * q] = q\n",
    "        else:\n",
    "            x = p + q\n",
    "            while x in s:  x += p\n",
    "            s[x] = p"
   ]
  },
  {
   "cell_type": "code",
   "execution_count": 322,
   "metadata": {},
   "outputs": [
    {
     "name": "stdout",
     "output_type": "stream",
     "text": [
      "2750159\n"
     ]
    }
   ],
   "source": [
    "print(list(islice(prime_sieve_gen(), 200000, 200000+1))[0])"
   ]
  },
  {
   "cell_type": "code",
   "execution_count": 323,
   "metadata": {},
   "outputs": [
    {
     "name": "stdout",
     "output_type": "stream",
     "text": [
      "2.24 s ± 37.7 ms per loop (mean ± std. dev. of 7 runs, 1 loop each)\n"
     ]
    }
   ],
   "source": [
    "%timeit list(islice(prime_sieve_gen(), 200000, 200000+1))"
   ]
  },
  {
   "cell_type": "code",
   "execution_count": null,
   "metadata": {},
   "outputs": [],
   "source": []
  },
  {
   "cell_type": "code",
   "execution_count": null,
   "metadata": {},
   "outputs": [],
   "source": []
  },
  {
   "cell_type": "code",
   "execution_count": null,
   "metadata": {},
   "outputs": [],
   "source": []
  }
 ],
 "metadata": {
  "kernelspec": {
   "display_name": "Python [default]",
   "language": "python",
   "name": "python3"
  },
  "language_info": {
   "codemirror_mode": {
    "name": "ipython",
    "version": 3
   },
   "file_extension": ".py",
   "mimetype": "text/x-python",
   "name": "python",
   "nbconvert_exporter": "python",
   "pygments_lexer": "ipython3",
   "version": "3.6.3"
  }
 },
 "nbformat": 4,
 "nbformat_minor": 2
}
